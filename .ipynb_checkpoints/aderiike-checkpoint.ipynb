{
 "cells": [
  {
   "cell_type": "code",
   "execution_count": 4,
   "id": "1c4892ba",
   "metadata": {},
   "outputs": [
    {
     "name": "stdout",
     "output_type": "stream",
     "text": [
      "Sorted list in descending order: [88, 78, 72, 54, 49, 21, 11, 5]\n"
     ]
    }
   ],
   "source": [
    "def bubble_sort_descending(arr):\n",
    "    n = len(arr)\n",
    "    \n",
    "    for i in range(n):\n",
    "        for j in range(0, n-i-1):\n",
    "            if arr[j] < arr[j+1]:\n",
    "                arr[j], arr[j+1] = arr[j+1], arr[j]\n",
    "                \n",
    "the_list = [21, 11, 5, 78, 49, 54, 72, 88]\n",
    "bubble_sort_descending(the_list)\n",
    "print(\"Sorted list in descending order:\", the_list)\n"
   ]
  },
  {
   "cell_type": "code",
   "execution_count": 6,
   "id": "e561ed2d",
   "metadata": {},
   "outputs": [
    {
     "ename": "NameError",
     "evalue": "name 'oi' is not defined",
     "output_type": "error",
     "traceback": [
      "\u001b[1;31m---------------------------------------------------------------------------\u001b[0m",
      "\u001b[1;31mNameError\u001b[0m                                 Traceback (most recent call last)",
      "Cell \u001b[1;32mIn[6], line 11\u001b[0m\n\u001b[0;32m      8\u001b[0m         arr[j \u001b[38;5;241m+\u001b[39m \u001b[38;5;241m1\u001b[39m] \u001b[38;5;241m=\u001b[39m key\n\u001b[0;32m     10\u001b[0m the_list \u001b[38;5;241m=\u001b[39m [\u001b[38;5;241m21\u001b[39m, \u001b[38;5;241m11\u001b[39m, \u001b[38;5;241m5\u001b[39m, \u001b[38;5;241m78\u001b[39m, \u001b[38;5;241m49\u001b[39m, \u001b[38;5;241m54\u001b[39m, \u001b[38;5;241m72\u001b[39m, \u001b[38;5;241m88\u001b[39m]\n\u001b[1;32m---> 11\u001b[0m insertion_sort_descending(the_list)\n\u001b[0;32m     12\u001b[0m Print(\u001b[38;5;124m\"\u001b[39m\u001b[38;5;124mSorted list in descending order:\u001b[39m\u001b[38;5;124m\"\u001b[39m, the_list)\n",
      "Cell \u001b[1;32mIn[6], line 4\u001b[0m, in \u001b[0;36minsertion_sort_descending\u001b[1;34m(arr)\u001b[0m\n\u001b[0;32m      2\u001b[0m \u001b[38;5;28;01mfor\u001b[39;00m i \u001b[38;5;129;01min\u001b[39;00m \u001b[38;5;28mrange\u001b[39m(\u001b[38;5;241m1\u001b[39m, \u001b[38;5;28mlen\u001b[39m(arr)):\n\u001b[0;32m      3\u001b[0m     key \u001b[38;5;241m=\u001b[39m arr[i]\n\u001b[1;32m----> 4\u001b[0m     j \u001b[38;5;241m=\u001b[39m oi \u001b[38;5;241m-\u001b[39m \u001b[38;5;241m1\u001b[39m\n\u001b[0;32m      5\u001b[0m     \u001b[38;5;28;01mwhile\u001b[39;00m j \u001b[38;5;241m>\u001b[39m\u001b[38;5;241m=\u001b[39m \u001b[38;5;241m0\u001b[39m \u001b[38;5;129;01mand\u001b[39;00m key \u001b[38;5;241m>\u001b[39m arr[j]:\n\u001b[0;32m      6\u001b[0m         arr[j \u001b[38;5;241m+\u001b[39m \u001b[38;5;241m1\u001b[39m] \u001b[38;5;241m=\u001b[39m arr[j]\n",
      "\u001b[1;31mNameError\u001b[0m: name 'oi' is not defined"
     ]
    }
   ],
   "source": [
    "def insertion_sort_descending(arr):\n",
    "    for i in range(1, len(arr)):\n",
    "        key = arr[i]\n",
    "        j = oi - 1\n",
    "        while j >= 0 and key > arr[j]:\n",
    "            arr[j + 1] = arr[j]\n",
    "            j -= 1\n",
    "        arr[j + 1] = key\n",
    "\n",
    "the_list = [21, 11, 5, 78, 49, 54, 72, 88]\n",
    "insertion_sort_descending(the_list)\n",
    "Print(\"Sorted list in descending order:\", the_list)\n"
   ]
  },
  {
   "cell_type": "code",
   "execution_count": null,
   "id": "72b087d6",
   "metadata": {},
   "outputs": [],
   "source": []
  }
 ],
 "metadata": {
  "kernelspec": {
   "display_name": "Python 3 (ipykernel)",
   "language": "python",
   "name": "python3"
  },
  "language_info": {
   "codemirror_mode": {
    "name": "ipython",
    "version": 3
   },
   "file_extension": ".py",
   "mimetype": "text/x-python",
   "name": "python",
   "nbconvert_exporter": "python",
   "pygments_lexer": "ipython3",
   "version": "3.11.3"
  }
 },
 "nbformat": 4,
 "nbformat_minor": 5
}
