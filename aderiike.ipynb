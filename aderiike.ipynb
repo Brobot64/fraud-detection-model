{
 "cells": [
  {
   "cell_type": "code",
   "execution_count": 4,
   "id": "85179b41",
   "metadata": {},
   "outputs": [
    {
     "name": "stdout",
     "output_type": "stream",
     "text": [
      "Sorted list in descending order: [88, 78, 72, 54, 49, 21, 11, 5]\n"
     ]
    }
   ],
   "source": [
    "def bubble_sort_descending(arr):\n",
    "    n = len(arr)\n",
    "    \n",
    "    for i in range(n):\n",
    "        for j in range(0, n-i-1):\n",
    "            if arr[j] < arr[j+1]:\n",
    "                arr[j], arr[j+1] = arr[j+1], arr[j]\n",
    "                \n",
    "the_list = [21, 11, 5, 78, 49, 54, 72, 88]\n",
    "bubble_sort_descending(the_list)\n",
    "print(\"Sorted list in descending order:\", the_list)\n"
   ]
  },
  {
   "cell_type": "code",
   "execution_count": 6,
   "id": "4ee317a2",
   "metadata": {},
   "outputs": [
    {
     "ename": "NameError",
     "evalue": "name 'oi' is not defined",
     "output_type": "error",
     "traceback": [
      "\u001b[1;31m---------------------------------------------------------------------------\u001b[0m",
      "\u001b[1;31mNameError\u001b[0m                                 Traceback (most recent call last)",
      "Cell \u001b[1;32mIn[6], line 11\u001b[0m\n\u001b[0;32m      8\u001b[0m         arr[j \u001b[38;5;241m+\u001b[39m \u001b[38;5;241m1\u001b[39m] \u001b[38;5;241m=\u001b[39m key\n\u001b[0;32m     10\u001b[0m the_list \u001b[38;5;241m=\u001b[39m [\u001b[38;5;241m21\u001b[39m, \u001b[38;5;241m11\u001b[39m, \u001b[38;5;241m5\u001b[39m, \u001b[38;5;241m78\u001b[39m, \u001b[38;5;241m49\u001b[39m, \u001b[38;5;241m54\u001b[39m, \u001b[38;5;241m72\u001b[39m, \u001b[38;5;241m88\u001b[39m]\n\u001b[1;32m---> 11\u001b[0m insertion_sort_descending(the_list)\n\u001b[0;32m     12\u001b[0m Print(\u001b[38;5;124m\"\u001b[39m\u001b[38;5;124mSorted list in descending order:\u001b[39m\u001b[38;5;124m\"\u001b[39m, the_list)\n",
      "Cell \u001b[1;32mIn[6], line 4\u001b[0m, in \u001b[0;36minsertion_sort_descending\u001b[1;34m(arr)\u001b[0m\n\u001b[0;32m      2\u001b[0m \u001b[38;5;28;01mfor\u001b[39;00m i \u001b[38;5;129;01min\u001b[39;00m \u001b[38;5;28mrange\u001b[39m(\u001b[38;5;241m1\u001b[39m, \u001b[38;5;28mlen\u001b[39m(arr)):\n\u001b[0;32m      3\u001b[0m     key \u001b[38;5;241m=\u001b[39m arr[i]\n\u001b[1;32m----> 4\u001b[0m     j \u001b[38;5;241m=\u001b[39m oi \u001b[38;5;241m-\u001b[39m \u001b[38;5;241m1\u001b[39m\n\u001b[0;32m      5\u001b[0m     \u001b[38;5;28;01mwhile\u001b[39;00m j \u001b[38;5;241m>\u001b[39m\u001b[38;5;241m=\u001b[39m \u001b[38;5;241m0\u001b[39m \u001b[38;5;129;01mand\u001b[39;00m key \u001b[38;5;241m>\u001b[39m arr[j]:\n\u001b[0;32m      6\u001b[0m         arr[j \u001b[38;5;241m+\u001b[39m \u001b[38;5;241m1\u001b[39m] \u001b[38;5;241m=\u001b[39m arr[j]\n",
      "\u001b[1;31mNameError\u001b[0m: name 'oi' is not defined"
     ]
    }
   ],
   "source": [
    "def insertion_sort_descending(arr):\n",
    "    for i in range(1, len(arr)):\n",
    "        key = arr[i]\n",
    "        j = oi - 1\n",
    "        while j >= 0 and key > arr[j]:\n",
    "            arr[j + 1] = arr[j]\n",
    "            j -= 1\n",
    "        arr[j + 1] = key\n",
    "\n",
    "the_list = [21, 11, 5, 78, 49, 54, 72, 88]\n",
    "insertion_sort_descending(the_list)\n",
    "Print(\"Sorted list in descending order:\", the_list)\n"
   ]
  },
  {
   "cell_type": "code",
   "execution_count": 14,
   "id": "b9cc5f28",
   "metadata": {},
   "outputs": [
    {
     "name": "stdout",
     "output_type": "stream",
     "text": [
      "Sorted list in ascending order: [4, 8, 9, 10, 11, 61, 72, 78]\n"
     ]
    }
   ],
   "source": [
    "def selection_sort_ascending(arr):\n",
    "    n = len(arr)\n",
    "    \n",
    "    for i in range(n):\n",
    "        min_index = i\n",
    "        for j in range(i+1, n):\n",
    "            if arr[j] < arr[min_index]:\n",
    "                min_index = j\n",
    "        \n",
    "        arr[i], arr[min_index] = arr[min_index], arr[i]\n",
    "\n",
    "my_list = [61, 11, 10, 78, 9, 4, 72, 8]\n",
    "selection_sort_ascending(my_list)\n",
    "print(\"Sorted list in ascending order:\", my_list)\n"
   ]
  },
  {
   "cell_type": "code",
   "execution_count": 24,
   "id": "5b2b29a3",
   "metadata": {},
   "outputs": [
    {
     "name": "stdout",
     "output_type": "stream",
     "text": [
      "Sorted names in ascending order: ['Abisola', 'Adedamola', 'Aisha', 'Isaac', 'Mardiyyah']\n"
     ]
    }
   ],
   "source": [
    "def selection_sort_names(names):\n",
    "    n = len(names)\n",
    "\n",
    "    for i in range(n - 1):\n",
    "        min_index = i\n",
    "        for j in range(i + 1, n):\n",
    "            if names[j] < names[min_index]:\n",
    "                min_index = j\n",
    "\n",
    "        # Swap the minimum element with the first element of the unsorted part\n",
    "        names[i], names[min_index] = names[min_index], names[i]\n",
    "\n",
    "name_list = [\"Abisola\", \"Aisha\", \"Adedamola\", \"Isaac\", \"Mardiyyah\"]\n",
    "selection_sort_names(name_list)\n",
    "print(\"Sorted names in ascending order:\", name_list)\n",
    "\n"
   ]
  },
  {
   "cell_type": "code",
   "execution_count": 32,
   "id": "6c111b3e",
   "metadata": {},
   "outputs": [
    {
     "name": "stdout",
     "output_type": "stream",
     "text": [
      "Sorted employees by salary in ascending order:\n",
      "Name: Aishat, Salary: 41000\n",
      "Name: Damola, Salary: 60000\n",
      "Name: Abisola, Salary: 100000\n",
      "Name: Isaac, Salary: 450000\n"
     ]
    }
   ],
   "source": [
    "class Employee:\n",
    "    def __init__(self, name, salary):\n",
    "        self.name = name\n",
    "        self.salary = salary\n",
    "\n",
    "def insertion_sort_employees_by_salary(employees):\n",
    "    for i in range(1, len(employees)):\n",
    "        key = employees[i]\n",
    "        j = i - 1\n",
    "        while j >= 0 and key.salary < employees[j].salary:\n",
    "            employees[j + 1] = employees[j]\n",
    "            j -= 1\n",
    "        employees[j + 1] = key\n",
    "\n",
    "\n",
    "employee1 = Employee(\"Abisola\", 100000)\n",
    "employee2 = Employee(\"Damola\", 60000)\n",
    "employee3 = Employee(\"Isaac\", 450000)\n",
    "employee4 = Employee(\"Aishat\", 41000)\n",
    "\n",
    "employee_list = [employee1, employee2, employee3, employee4]\n",
    "\n",
    "insertion_sort_employees_by_salary(employee_list)\n",
    "\n",
    "print(\"Sorted employees by salary in ascending order:\")\n",
    "for employee in employee_list:\n",
    "    print(f\"Name: {employee.name}, Salary: {employee.salary}\")\n"
   ]
  },
  {
   "cell_type": "code",
   "execution_count": 45,
   "id": "d8309868",
   "metadata": {},
   "outputs": [
    {
     "ename": "NameError",
     "evalue": "name 'Bubble_sort_top_10_students' is not defined",
     "output_type": "error",
     "traceback": [
      "\u001b[1;31m---------------------------------------------------------------------------\u001b[0m",
      "\u001b[1;31mNameError\u001b[0m                                 Traceback (most recent call last)",
      "Cell \u001b[1;32mIn[45], line 39\u001b[0m\n\u001b[0;32m     14\u001b[0m students \u001b[38;5;241m=\u001b[39m [\n\u001b[0;32m     15\u001b[0m     student(\u001b[38;5;241m101\u001b[39m, [\u001b[38;5;241m55\u001b[39m, \u001b[38;5;241m88\u001b[39m, \u001b[38;5;241m92\u001b[39m, \u001b[38;5;241m65\u001b[39m, \u001b[38;5;241m89\u001b[39m, \u001b[38;5;241m94\u001b[39m, \u001b[38;5;241m54\u001b[39m, \u001b[38;5;241m71\u001b[39m, \u001b[38;5;241m93\u001b[39m, \u001b[38;5;241m39\u001b[39m]),\n\u001b[0;32m     16\u001b[0m     student(\u001b[38;5;241m102\u001b[39m, [\u001b[38;5;241m35\u001b[39m, \u001b[38;5;241m81\u001b[39m, \u001b[38;5;241m64\u001b[39m, \u001b[38;5;241m92\u001b[39m, \u001b[38;5;241m88\u001b[39m, \u001b[38;5;241m89\u001b[39m, \u001b[38;5;241m40\u001b[39m, \u001b[38;5;241m91\u001b[39m, \u001b[38;5;241m94\u001b[39m, \u001b[38;5;241m90\u001b[39m]),\n\u001b[1;32m   (...)\u001b[0m\n\u001b[0;32m     35\u001b[0m    \n\u001b[0;32m     36\u001b[0m ]\n\u001b[0;32m     38\u001b[0m \u001b[38;5;66;03m# sort the students based on their total marks using bubble sort\u001b[39;00m\n\u001b[1;32m---> 39\u001b[0m Bubble_sort_top_10_students(students)\n\u001b[0;32m     41\u001b[0m \u001b[38;5;66;03m# display the top 10 students’ roll numbers and marks\u001b[39;00m\n\u001b[0;32m     42\u001b[0m Print(\u001b[38;5;124m\"\u001b[39m\u001b[38;5;124mtop 10 students (roll number, total marks) in sorted order:\u001b[39m\u001b[38;5;124m\"\u001b[39m)\n",
      "\u001b[1;31mNameError\u001b[0m: name 'Bubble_sort_top_10_students' is not defined"
     ]
    }
   ],
   "source": [
    "class student:\n",
    "    def __init__(self, roll_number, marks):\n",
    "        self.roll_number = roll_number\n",
    "        self.marks = marks\n",
    "\n",
    "def bubble_sort_top_10_students(students):\n",
    "    n = len(students)\n",
    "    for i in range(n - 1):\n",
    "        for j in range(0, n - i - 1):\n",
    "            if students[j].marks < students[j + 1].marks:\n",
    "                students[j], students[j + 1] = students[j + 1], students[j]\n",
    "\n",
    "# create a list of student objects with roll numbers and marks\n",
    "students = [\n",
    "    student(101, [55, 88, 92, 65, 89, 94, 54, 71, 93, 39]),\n",
    "    student(102, [35, 81, 64, 92, 88, 89, 40, 91, 94, 90]),\n",
    "    student(103, [85, 87, 84, 92, 8, 49, 90, 92, 94, 79]),\n",
    "    student(104, [55, 88, 92, 65, 69, 94, 38, 91, 93, 6]),\n",
    "    student(105, [41, 64, 20, 65, 89, 32, 54, 71, 93, 86]),\n",
    "    student(106, [35, 81, 64, 92, 88, 89, 40, 54, 94, 46]),\n",
    "    student(107, [5, 87, 84, 92, 8, 70, 90, 92, 94, 96]),\n",
    "    student(108, [45, 88, 92, 75, 69, 94, 54, 91, 93, 65]),\n",
    "    student(109, [85, 87, 84, 92, 43, 49, 90, 92, 94, 56]),\n",
    "    student(110, [95, 88, 92, 65, 69, 94, 54, 71, 93, 6]),\n",
    "    student(111, [40, 88, 32, 65, 89, 64, 54, 71, 93, 58]),\n",
    "    student(112, [35, 81, 64, 92, 38, 86, 30, 91, 65, 80]),\n",
    "    student(113, [12, 17, 84, 40, 8, 49, 53, 92, 94, 79]),\n",
    "    student(114, [25, 34, 67, 76, 69, 94, 38, 91, 93, 26]),\n",
    "    student(115, [41, 64, 26, 65, 89, 32, 54, 71, 64, 23]),\n",
    "    student(116, [35, 41, 64, 92, 88, 30, 40, 54, 94, 46]),\n",
    "    student(117, [5, 87, 84, 92, 34, 70, 90, 92, 94, 96]),\n",
    "    student(118, [45, 88, 92, 75, 69, 94, 54, 91, 93, 6]),\n",
    "    student(119, [85, 27, 64, 92, 28, 49, 90, 27, 94, 86]),\n",
    "    student(120, [95, 88, 92, 21, 69, 84, 94, 61, 53, 80])\n",
    "   \n",
    "]\n",
    "\n",
    "# sort the students based on their total marks using bubble sort\n",
    "Bubble_sort_top_10_students(students)\n",
    "\n",
    "# display the top 10 students’ roll numbers and marks\n",
    "Print(\"top 10 students (roll number, total marks) in sorted order:\")\n",
    "for i in range(10):\n",
    "    Print(f\"roll number: {students[i].roll_number}, total marks: {sum(students[i].marks)}\")\n"
   ]
  },
  {
   "cell_type": "code",
   "execution_count": null,
   "id": "3d422349",
   "metadata": {},
   "outputs": [],
   "source": []
  },
  {
   "cell_type": "code",
   "execution_count": null,
   "id": "adf5dfe2",
   "metadata": {},
   "outputs": [],
   "source": []
  }
 ],
 "metadata": {
  "kernelspec": {
   "display_name": "Python 3 (ipykernel)",
   "language": "python",
   "name": "python3"
  },
  "language_info": {
   "codemirror_mode": {
    "name": "ipython",
    "version": 3
   },
   "file_extension": ".py",
   "mimetype": "text/x-python",
   "name": "python",
   "nbconvert_exporter": "python",
   "pygments_lexer": "ipython3",
   "version": "3.11.3"
  }
 },
 "nbformat": 4,
 "nbformat_minor": 5
}
