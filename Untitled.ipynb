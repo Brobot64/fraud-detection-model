{
 "cells": [
  {
   "cell_type": "code",
   "execution_count": 1,
   "id": "6254b6ae",
   "metadata": {},
   "outputs": [],
   "source": [
    "import pandas as pd\n",
    "import numpy as np\n",
    "import matplotlib.pyplot as plt"
   ]
  },
  {
   "cell_type": "code",
   "execution_count": 63,
   "id": "2087b88d",
   "metadata": {},
   "outputs": [
    {
     "data": {
      "text/html": [
       "<div>\n",
       "<style scoped>\n",
       "    .dataframe tbody tr th:only-of-type {\n",
       "        vertical-align: middle;\n",
       "    }\n",
       "\n",
       "    .dataframe tbody tr th {\n",
       "        vertical-align: top;\n",
       "    }\n",
       "\n",
       "    .dataframe thead th {\n",
       "        text-align: right;\n",
       "    }\n",
       "</style>\n",
       "<table border=\"1\" class=\"dataframe\">\n",
       "  <thead>\n",
       "    <tr style=\"text-align: right;\">\n",
       "      <th></th>\n",
       "      <th>data</th>\n",
       "      <th>num</th>\n",
       "    </tr>\n",
       "  </thead>\n",
       "  <tbody>\n",
       "    <tr>\n",
       "      <th>0</th>\n",
       "      <td>400</td>\n",
       "      <td>8</td>\n",
       "    </tr>\n",
       "    <tr>\n",
       "      <th>1</th>\n",
       "      <td>599</td>\n",
       "      <td>3</td>\n",
       "    </tr>\n",
       "    <tr>\n",
       "      <th>2</th>\n",
       "      <td>564</td>\n",
       "      <td>74</td>\n",
       "    </tr>\n",
       "    <tr>\n",
       "      <th>3</th>\n",
       "      <td>345</td>\n",
       "      <td>69</td>\n",
       "    </tr>\n",
       "  </tbody>\n",
       "</table>\n",
       "</div>"
      ],
      "text/plain": [
       "   data  num\n",
       "0   400    8\n",
       "1   599    3\n",
       "2   564   74\n",
       "3   345   69"
      ]
     },
     "execution_count": 63,
     "metadata": {},
     "output_type": "execute_result"
    }
   ],
   "source": [
    "import pandas as pd\n",
    "import random\n",
    "\n",
    "source_data = [{'data': 400, 'num': 8}, {'data': 599, 'num': 3}, {'data': 564, 'num': 74}, {'data': 345, 'num': 69}]\n",
    "source_df = pd.DataFrame(source_data)\n",
    "source_df"
   ]
  },
  {
   "cell_type": "code",
   "execution_count": 64,
   "id": "0028e1e1",
   "metadata": {},
   "outputs": [
    {
     "data": {
      "text/html": [
       "<div>\n",
       "<style scoped>\n",
       "    .dataframe tbody tr th:only-of-type {\n",
       "        vertical-align: middle;\n",
       "    }\n",
       "\n",
       "    .dataframe tbody tr th {\n",
       "        vertical-align: top;\n",
       "    }\n",
       "\n",
       "    .dataframe thead th {\n",
       "        text-align: right;\n",
       "    }\n",
       "</style>\n",
       "<table border=\"1\" class=\"dataframe\">\n",
       "  <thead>\n",
       "    <tr style=\"text-align: right;\">\n",
       "      <th></th>\n",
       "      <th>data</th>\n",
       "      <th>num</th>\n",
       "    </tr>\n",
       "  </thead>\n",
       "  <tbody>\n",
       "    <tr>\n",
       "      <th>0</th>\n",
       "      <td>393</td>\n",
       "      <td>4</td>\n",
       "    </tr>\n",
       "    <tr>\n",
       "      <th>1</th>\n",
       "      <td>536</td>\n",
       "      <td>2</td>\n",
       "    </tr>\n",
       "    <tr>\n",
       "      <th>2</th>\n",
       "      <td>748</td>\n",
       "      <td>5</td>\n",
       "    </tr>\n",
       "    <tr>\n",
       "      <th>3</th>\n",
       "      <td>901</td>\n",
       "      <td>0</td>\n",
       "    </tr>\n",
       "    <tr>\n",
       "      <th>4</th>\n",
       "      <td>236</td>\n",
       "      <td>11</td>\n",
       "    </tr>\n",
       "    <tr>\n",
       "      <th>5</th>\n",
       "      <td>721</td>\n",
       "      <td>67</td>\n",
       "    </tr>\n",
       "    <tr>\n",
       "      <th>6</th>\n",
       "      <td>390</td>\n",
       "      <td>81</td>\n",
       "    </tr>\n",
       "    <tr>\n",
       "      <th>7</th>\n",
       "      <td>890</td>\n",
       "      <td>90</td>\n",
       "    </tr>\n",
       "  </tbody>\n",
       "</table>\n",
       "</div>"
      ],
      "text/plain": [
       "   data  num\n",
       "0   393    4\n",
       "1   536    2\n",
       "2   748    5\n",
       "3   901    0\n",
       "4   236   11\n",
       "5   721   67\n",
       "6   390   81\n",
       "7   890   90"
      ]
     },
     "execution_count": 64,
     "metadata": {},
     "output_type": "execute_result"
    }
   ],
   "source": [
    "target_data = [{'data': 393, 'num': 4}, {'data': 536, 'num': 2},\n",
    "              {'data': 748, 'num': 5}, {'data': 901, 'num': 0}, {'data': 236, 'num': 11}, {'data': 721, 'num': 67},\n",
    "              {'data': 390, 'num': 81}, {'data': 890, 'num': 90}]\n",
    "target_df = pd.DataFrame(target_data)\n",
    "fitch = target_df\n",
    "fitch"
   ]
  },
  {
   "cell_type": "code",
   "execution_count": 65,
   "id": "1a67f12a",
   "metadata": {},
   "outputs": [
    {
     "name": "stdout",
     "output_type": "stream",
     "text": [
      "   data  num\n",
      "0   393    4\n",
      "1   536    2\n",
      "2   748    5\n",
      "3   901    0\n",
      "4   236   11\n",
      "5   721   67\n",
      "6   390   81\n",
      "7   890   90\n",
      "data    400\n",
      "num       8\n",
      "Name: 0, dtype: int64 5\n",
      "data    599\n",
      "num       3\n",
      "Name: 1, dtype: int64 1\n",
      "data    564\n",
      "num      74\n",
      "Name: 2, dtype: int64 3\n",
      "data    345\n",
      "num      69\n",
      "Name: 3, dtype: int64 7\n"
     ]
    },
    {
     "data": {
      "text/html": [
       "<div>\n",
       "<style scoped>\n",
       "    .dataframe tbody tr th:only-of-type {\n",
       "        vertical-align: middle;\n",
       "    }\n",
       "\n",
       "    .dataframe tbody tr th {\n",
       "        vertical-align: top;\n",
       "    }\n",
       "\n",
       "    .dataframe thead th {\n",
       "        text-align: right;\n",
       "    }\n",
       "</style>\n",
       "<table border=\"1\" class=\"dataframe\">\n",
       "  <thead>\n",
       "    <tr style=\"text-align: right;\">\n",
       "      <th></th>\n",
       "      <th>data</th>\n",
       "      <th>num</th>\n",
       "    </tr>\n",
       "  </thead>\n",
       "  <tbody>\n",
       "    <tr>\n",
       "      <th>0</th>\n",
       "      <td>393</td>\n",
       "      <td>4</td>\n",
       "    </tr>\n",
       "    <tr>\n",
       "      <th>1</th>\n",
       "      <td>599</td>\n",
       "      <td>3</td>\n",
       "    </tr>\n",
       "    <tr>\n",
       "      <th>2</th>\n",
       "      <td>748</td>\n",
       "      <td>5</td>\n",
       "    </tr>\n",
       "    <tr>\n",
       "      <th>3</th>\n",
       "      <td>564</td>\n",
       "      <td>74</td>\n",
       "    </tr>\n",
       "    <tr>\n",
       "      <th>4</th>\n",
       "      <td>236</td>\n",
       "      <td>11</td>\n",
       "    </tr>\n",
       "    <tr>\n",
       "      <th>5</th>\n",
       "      <td>400</td>\n",
       "      <td>8</td>\n",
       "    </tr>\n",
       "    <tr>\n",
       "      <th>6</th>\n",
       "      <td>390</td>\n",
       "      <td>81</td>\n",
       "    </tr>\n",
       "    <tr>\n",
       "      <th>7</th>\n",
       "      <td>345</td>\n",
       "      <td>69</td>\n",
       "    </tr>\n",
       "  </tbody>\n",
       "</table>\n",
       "</div>"
      ],
      "text/plain": [
       "   data  num\n",
       "0   393    4\n",
       "1   599    3\n",
       "2   748    5\n",
       "3   564   74\n",
       "4   236   11\n",
       "5   400    8\n",
       "6   390   81\n",
       "7   345   69"
      ]
     },
     "execution_count": 65,
     "metadata": {},
     "output_type": "execute_result"
    }
   ],
   "source": [
    "rows = []\n",
    "delfi = source_df\n",
    "print(fitch)\n",
    "for i in range(len(fitch)):\n",
    "    rows.append(i)\n",
    "    ++i\n",
    "    \n",
    "faint = random.sample(rows, len(delfi))\n",
    "counter = 0\n",
    "for i in faint:\n",
    "    data = delfi.iloc[counter]['data']\n",
    "    num = delfi.iloc[counter]['num']\n",
    "    print(delfi.iloc[counter], i)\n",
    "    fitch.iloc[i]['data'] = data\n",
    "    fitch.iloc[i]['num'] = num\n",
    "    counter = counter + 1\n",
    "fitch"
   ]
  },
  {
   "cell_type": "code",
   "execution_count": 42,
   "id": "0e0f776f",
   "metadata": {},
   "outputs": [],
   "source": [
    "#fitch.loc['data']\n",
    "sotware engineer withover 2+ years of experience in react node and express.\n",
    "recognized consistency for performance excellence and contribution to success in frontend deveopment.\n",
    "Strength is MongoDB and MySQl backend by training and interships in variour flagship company"
   ]
  },
  {
   "cell_type": "code",
   "execution_count": 24,
   "id": "7abd7c83",
   "metadata": {},
   "outputs": [
    {
     "name": "stdout",
     "output_type": "stream",
     "text": [
      "   data  num\n",
      "0   901    0\n",
      "1   536    2\n",
      "2   390   81\n",
      "3   748    5\n",
      "4   890   90\n",
      "5   393    4\n",
      "6   564    1\n",
      "7   345   67\n"
     ]
    }
   ],
   "source": [
    "target_df = target_df.sample(frac=1).reset_index(drop=True)\n",
    "numrowtoreplace = 2\n",
    "rows_to_replace = random.sample(range(len(target_df)), numrowtoreplace)\n",
    "\n",
    "for row_idx in rows_to_replace:\n",
    "    midi = source_df.iloc[row_idx % len(source_df)]\n",
    "    target_df.loc[row_idx] = midi\n",
    "    \n",
    "print(target_df)"
   ]
  },
  {
   "cell_type": "code",
   "execution_count": 2,
   "id": "c694d313",
   "metadata": {},
   "outputs": [
    {
     "ename": "ModuleNotFoundError",
     "evalue": "No module named 'faker'",
     "output_type": "error",
     "traceback": [
      "\u001b[1;31m---------------------------------------------------------------------------\u001b[0m",
      "\u001b[1;31mModuleNotFoundError\u001b[0m                       Traceback (most recent call last)",
      "Cell \u001b[1;32mIn[2], line 1\u001b[0m\n\u001b[1;32m----> 1\u001b[0m \u001b[38;5;28;01mfrom\u001b[39;00m \u001b[38;5;21;01mfaker\u001b[39;00m \u001b[38;5;28;01mimport\u001b[39;00m Faker\n",
      "\u001b[1;31mModuleNotFoundError\u001b[0m: No module named 'faker'"
     ]
    }
   ],
   "source": [
    "from faker import Faker"
   ]
  },
  {
   "cell_type": "code",
   "execution_count": null,
   "id": "e7bff265",
   "metadata": {},
   "outputs": [],
   "source": [
    "import random\n",
    "\n",
    "def generate_ip_address():\n",
    "    ip_address = \".\".join(str(random.randint(0, 255)) for _ in range(4))\n",
    "    return ip_address"
   ]
  },
  {
   "cell_type": "code",
   "execution_count": null,
   "id": "b6b2fde8",
   "metadata": {},
   "outputs": [],
   "source": [
    "generate_ip_address()"
   ]
  },
  {
   "cell_type": "code",
   "execution_count": null,
   "id": "e93d2720",
   "metadata": {},
   "outputs": [],
   "source": [
    "# generating location\n",
    "def generate_location():\n",
    "    latitude = random.uniform(40.0, 41.0)\n",
    "    longitude = random.uniform(-74.0, -73.0)\n",
    "    return latitude, longitude\n",
    "\n",
    "num_sample = 10\n",
    "for _ in range(num_sample):\n",
    "    ip_address = generate_ip_address()\n",
    "    latitude, longitude = generate_location()\n",
    "    print(f\"IP Address: {ip_address}, Location: ({latitude}, {longitude})\")"
   ]
  },
  {
   "cell_type": "markdown",
   "id": "a9ac5b1b",
   "metadata": {},
   "source": [
    "### Creating a synthetic financial transaction for a User"
   ]
  },
  {
   "cell_type": "code",
   "execution_count": null,
   "id": "b83883ff",
   "metadata": {},
   "outputs": [],
   "source": [
    "name = 'Adam Smiths'\n",
    "email = 'adamsmiths54@gmail.com'\n",
    "transaction_mode = ['ussd', 'mobile_app', 'online_payment']\n",
    "tag = ['transfer', 'airtime', 'payment']"
   ]
  },
  {
   "cell_type": "code",
   "execution_count": 51,
   "id": "14edc798",
   "metadata": {},
   "outputs": [],
   "source": [
    "# Creating a date range\n",
    "from datetime import datetime, timedelta\n",
    "\n",
    "def generation_range(start_date, end_date):\n",
    "    dates_list = []\n",
    "    current_date = start_date\n",
    "    \n",
    "    while current_date <= end_date:\n",
    "        dates_list.append(current_date.strftime('%Y-%m-%d'))\n",
    "        current_date += timedelta(days=1)\n",
    "    \n",
    "    return dates_list"
   ]
  },
  {
   "cell_type": "code",
   "execution_count": 48,
   "id": "6e3d7a3a",
   "metadata": {},
   "outputs": [],
   "source": [
    "# converting string into datetime\n",
    "def string_to_date_converter(date_string):\n",
    "    parsed_date = datetime.strptime(date_string, \"%Y-%m-%d\")\n",
    "    return parsed_date"
   ]
  },
  {
   "cell_type": "code",
   "execution_count": 49,
   "id": "555ddd86",
   "metadata": {},
   "outputs": [],
   "source": [
    "start_date = \"2023-03-01\"\n",
    "end_date = \"2023-05-01\""
   ]
  },
  {
   "cell_type": "code",
   "execution_count": 11,
   "id": "7f1b877b",
   "metadata": {},
   "outputs": [
    {
     "name": "stdout",
     "output_type": "stream",
     "text": [
      "True\n"
     ]
    }
   ],
   "source": [
    "# determine if date is weekend\n",
    "def is_weekend(date):\n",
    "    return date.weekday() in (5, 6)\n",
    "# check\n",
    "dates = datetime(2022, 10, 2)\n",
    "print(is_weekend(dates))"
   ]
  },
  {
   "cell_type": "code",
   "execution_count": null,
   "id": "31330580",
   "metadata": {},
   "outputs": [],
   "source": [
    "# Check if date is holiday\n",
    "# import holidays\n",
    "\n",
    "# def is_holiday(check_date, country='NG'):\n",
    "#     country_holidays = holidays.CountryHoliday(country, observed=True)\n",
    "    \n",
    "#     return check_date in country_holidays\n",
    "\n",
    "# dates = datetime(2022, 10, 2)\n",
    "# print(is_holiday(dates))"
   ]
  },
  {
   "cell_type": "code",
   "execution_count": 13,
   "id": "2baefa0e",
   "metadata": {},
   "outputs": [
    {
     "ename": "ModuleNotFoundError",
     "evalue": "No module named 'calender'",
     "output_type": "error",
     "traceback": [
      "\u001b[1;31m---------------------------------------------------------------------------\u001b[0m",
      "\u001b[1;31mModuleNotFoundError\u001b[0m                       Traceback (most recent call last)",
      "Cell \u001b[1;32mIn[13], line 2\u001b[0m\n\u001b[0;32m      1\u001b[0m \u001b[38;5;66;03m# Check if end of the month\u001b[39;00m\n\u001b[1;32m----> 2\u001b[0m \u001b[38;5;28;01mimport\u001b[39;00m \u001b[38;5;21;01mcalender\u001b[39;00m\n\u001b[0;32m      4\u001b[0m \u001b[38;5;28;01mdef\u001b[39;00m \u001b[38;5;21mcheck_if_monthend\u001b[39m(date):\n\u001b[0;32m      5\u001b[0m     max_days_in_month \u001b[38;5;241m=\u001b[39m calender\u001b[38;5;241m.\u001b[39mmonthrange(date\u001b[38;5;241m.\u001b[39myear, date\u001b[38;5;241m.\u001b[39mmonth)[\u001b[38;5;241m1\u001b[39m]\n",
      "\u001b[1;31mModuleNotFoundError\u001b[0m: No module named 'calender'"
     ]
    }
   ],
   "source": [
    "# Check if end of the month\n",
    "import calender\n",
    "\n",
    "def check_if_monthend(date):\n",
    "    max_days_in_month = calender.monthrange(date.year, date.month)[1]\n",
    "    return date.day == max_days_in_month\n",
    "\n",
    "# test\n",
    "dates = datetime(2022, 10, 2)\n",
    "print(check_if_monthend(dates))"
   ]
  },
  {
   "cell_type": "code",
   "execution_count": 2,
   "id": "e95bbd12",
   "metadata": {},
   "outputs": [
    {
     "name": "stdout",
     "output_type": "stream",
     "text": [
      "Note: you may need to restart the kernel to use updated packages.\n"
     ]
    },
    {
     "name": "stderr",
     "output_type": "stream",
     "text": [
      "ERROR: Could not find a version that satisfies the requirement calendar (from versions: none)\n",
      "ERROR: No matching distribution found for calendar\n"
     ]
    }
   ],
   "source": [
    "pip install calendar"
   ]
  },
  {
   "cell_type": "code",
   "execution_count": 10,
   "id": "cf455c29",
   "metadata": {},
   "outputs": [
    {
     "name": "stdout",
     "output_type": "stream",
     "text": [
      "Morning:  08:42 AM\n",
      "Afternoon:  15:21 PM\n",
      "Night:  14:08 PM\n"
     ]
    }
   ],
   "source": [
    "from datetime import datetime, time, timedelta\n",
    "import random\n",
    "\n",
    "def get_random_time(start_hour, end_hour):\n",
    "    return time(random.randint(start_hour, end_hour), random.randint(0, 59))\n",
    "\n",
    "def generate_random_time():\n",
    "    morning_time = get_random_time(5, 11)\n",
    "    \n",
    "    afternoon_time = get_random_time(12, 17)\n",
    "    \n",
    "    evening_time = get_random_time(13, 23)\n",
    "    \n",
    "    return morning_time, afternoon_time, evening_time\n",
    "\n",
    "morning, afternoon, night = generate_random_time()\n",
    "\n",
    "print('Morning: ', morning.strftime('%H:%M %p'))\n",
    "print('Afternoon: ', afternoon.strftime('%H:%M %p'))\n",
    "print('Night: ', night.strftime('%H:%M %p'))"
   ]
  },
  {
   "cell_type": "code",
   "execution_count": 12,
   "id": "a0cf596b",
   "metadata": {},
   "outputs": [
    {
     "name": "stdout",
     "output_type": "stream",
     "text": [
      "True\n"
     ]
    }
   ],
   "source": [
    "def is_month_end(input_date):\n",
    "    next_day = input_date + timedelta(days=1)\n",
    "    return input_date.month != next_day.month\n",
    "\n",
    "given_date = datetime(2023, 2, 28)\n",
    "result = is_month_end(given_date)\n",
    "\n",
    "print(result)"
   ]
  },
  {
   "cell_type": "code",
   "execution_count": 43,
   "id": "0b17fc3c",
   "metadata": {},
   "outputs": [],
   "source": [
    "miscellenous_transact = {\n",
    "    'Doughnut': 23.00,\n",
    "    'Pizza': 45.00,\n",
    "    'Fun fair': 34.00,\n",
    "    'Bus': 20.00,\n",
    "    'Coffee': 12.00,\n",
    "    'Sweet': 5.00\n",
    "}"
   ]
  },
  {
   "cell_type": "code",
   "execution_count": 44,
   "id": "0bf8a69e",
   "metadata": {},
   "outputs": [
    {
     "name": "stdout",
     "output_type": "stream",
     "text": [
      "[('07:04:39', 'Doughnut', 23.0), ('12:53:06', 'Coffee', 12.0), ('17:35:40', 'Sweet', 5.0), ('22:14:19', 'Bus', 20.0)]\n"
     ]
    }
   ],
   "source": [
    "from datetime import datetime, time, timedelta\n",
    "import random\n",
    "\n",
    "def generate_evenly_spaced_times(start_hour, end_hour, total_times):\n",
    "    time_range = end_hour - start_hour\n",
    "    interval = int(time_range / (total_times - 1))\n",
    "    \n",
    "    transaction_times = []\n",
    "    current_hour = start_hour\n",
    "    \n",
    "    whatyys = random.sample((list(miscellenous_transact.keys())), total_times)\n",
    "    \n",
    "    for _ in range(total_times):\n",
    "        random_minute = random.randint(0, 59)\n",
    "        random_second = random.randint(0, 59)\n",
    "        \n",
    "        chosen = random.choice(whatyys)\n",
    "        whatyys.remove(chosen)\n",
    "        \n",
    "        #convinve = (random_time.strftime(\"%H:%M:%S\"),chosen, miscellenous_transact[chosen])\n",
    "        \n",
    "        random_time = datetime.now().replace(hour=current_hour, minute=random_minute, second=random_second)\n",
    "        convinve = (random_time.strftime(\"%H:%M:%S\"),chosen, miscellenous_transact[chosen])\n",
    "        #transaction_times.append(random_time.strftime(\"%H:%M:%S\"))\n",
    "        transaction_times.append(convinve)\n",
    "        \n",
    "        current_hour += interval\n",
    "        \n",
    "    return transaction_times\n",
    "\n",
    "start_hour=7\n",
    "end_hour=23\n",
    "total_times=4\n",
    "print(generate_evenly_spaced_times(start_hour, end_hour, total_times))"
   ]
  },
  {
   "cell_type": "code",
   "execution_count": 29,
   "id": "ff7c32e3",
   "metadata": {},
   "outputs": [
    {
     "name": "stdout",
     "output_type": "stream",
     "text": [
      "hello\n",
      "hello\n",
      "hello\n",
      "hello\n",
      "hello\n"
     ]
    }
   ],
   "source": [
    "for _ in range(5):\n",
    "    print('hello')"
   ]
  },
  {
   "cell_type": "code",
   "execution_count": 108,
   "id": "77672db9",
   "metadata": {},
   "outputs": [],
   "source": [
    "#Create a function that does everything\n",
    "import random\n",
    "\n",
    "def generate_transaction(day):\n",
    "    if_month_end_transact = {\n",
    "        'Groceries': [2000, 1500, 1000, 2500],\n",
    "        'Pay Bills' : [500, 40, 100, 900, 670, 458],\n",
    "        'Miscellenous': [600, 480, 550]\n",
    "    }\n",
    "\n",
    "    if_party_transact = {\n",
    "        'Transport': [10, 50, 60, 70, 100],\n",
    "        'Party Present': [60, 70],\n",
    "        'Party Miscel': [40, 50, 60, 70]\n",
    "    }\n",
    "\n",
    "    if_workday = {\n",
    "        'Doughnut': 23,\n",
    "        'Pizza': 45,\n",
    "        'Fun fair': 34,\n",
    "        'Bus': 20,\n",
    "        'Coffee': 12,\n",
    "        'Sweet': 5\n",
    "    }\n",
    "\n",
    "    if_weekend = {\n",
    "        'Visitation': [20, 10, 5],\n",
    "        'Treat': [30,40,20,10],\n",
    "        'Development': [10,50, 40],\n",
    "        'Gym': [10, 25, 28]\n",
    "    }\n",
    "\n",
    "    party_chooser = [True, False]\n",
    "\n",
    "    weekday_transaction_total = [3, 4, 5]\n",
    "    weekend_transaction_total = [2, 3]\n",
    "\n",
    "    day_transaction = {}\n",
    "    month_end_check = is_month_end(day)\n",
    "    if (month_end_check):\n",
    "        #print('It is Month end')\n",
    "        monthys = if_month_end_transact\n",
    "        #choosing the first element of if month\n",
    "        main = next(iter(if_month_end_transact.keys()))\n",
    "        main_value = random.choice(monthys[main]) #####\n",
    "        day_transaction[main] = main_value\n",
    "        del monthys[main]\n",
    "        #choosing second random element\n",
    "        random_mth_transact = random.choice(list(monthys.keys()))\n",
    "        random_mth_transact_value = random.choice(monthys[random_mth_transact]) #####\n",
    "        day_transaction[random_mth_transact] = random_mth_transact_value\n",
    "        \n",
    "    weekend_checker = is_weekend(day)\n",
    "    if(weekend_checker):\n",
    "        #print('It is weekend')\n",
    "        is_there_party = random.choice(party_chooser)\n",
    "        if(is_there_party):\n",
    "            #print('There is party')\n",
    "            partying = if_party_transact\n",
    "            for _ in range(len(partying)):\n",
    "                chosen = random.choice(list(partying.keys()))\n",
    "                chosen_value = random.choice(partying[chosen])#####\n",
    "                day_transaction[chosen] = chosen_value\n",
    "                del partying[chosen]\n",
    "        else:\n",
    "            #print('No party')\n",
    "            set_transact = random.choice(weekend_transaction_total)\n",
    "            weekend_transaction = random.sample((list(if_weekend.keys())), set_transact)\n",
    "            for _ in range(set_transact):\n",
    "                chosen = random.choice(weekend_transaction)\n",
    "                chosen_value = random.choice(if_weekend[chosen])\n",
    "                day_transaction[chosen] = chosen_value\n",
    "                weekend_transaction.remove(chosen)\n",
    "    else:\n",
    "        #print('It is workday')\n",
    "        set_transact = random.choice(weekday_transaction_total)\n",
    "        workday_transaction = random.sample((list(if_workday.keys())), set_transact)\n",
    "        for _ in range(set_transact):\n",
    "            chosen = random.choice(workday_transaction)\n",
    "            chosen_value = if_workday[chosen]\n",
    "            day_transaction[chosen] = chosen_value\n",
    "            workday_transaction.remove(chosen)\n",
    "            \n",
    "    return day_transaction\n",
    "       \n",
    "    "
   ]
  },
  {
   "cell_type": "code",
   "execution_count": 83,
   "id": "a077ed7f",
   "metadata": {},
   "outputs": [
    {
     "name": "stdout",
     "output_type": "stream",
     "text": [
      "It is weekend\n",
      "No party\n",
      "{'Gym': 28, 'Treat': 20}\n"
     ]
    }
   ],
   "source": [
    "day = datetime(2023, 4, 9)\n",
    "trans = generate_transaction(day)\n",
    "print(trans)"
   ]
  },
  {
   "cell_type": "code",
   "execution_count": 106,
   "id": "905f8e75",
   "metadata": {},
   "outputs": [
    {
     "ename": "TypeError",
     "evalue": "genree() missing 1 required positional argument: 'transaction_date'",
     "output_type": "error",
     "traceback": [
      "\u001b[1;31m---------------------------------------------------------------------------\u001b[0m",
      "\u001b[1;31mTypeError\u001b[0m                                 Traceback (most recent call last)",
      "Cell \u001b[1;32mIn[106], line 45\u001b[0m\n\u001b[0;32m     41\u001b[0m     \u001b[38;5;28;01mreturn\u001b[39;00m linsting\n\u001b[0;32m     44\u001b[0m transactios \u001b[38;5;241m=\u001b[39m trans\n\u001b[1;32m---> 45\u001b[0m coded \u001b[38;5;241m=\u001b[39m genree(transactios, \u001b[38;5;241m7\u001b[39m, \u001b[38;5;241m23\u001b[39m)\n\u001b[0;32m     46\u001b[0m \u001b[38;5;28mprint\u001b[39m(coded)\n",
      "\u001b[1;31mTypeError\u001b[0m: genree() missing 1 required positional argument: 'transaction_date'"
     ]
    }
   ],
   "source": [
    "from datetime import datetime, time, timedelta\n",
    "#creating a def function\n",
    "def genree(transaction, start_hour, end_hour, transaction_date):\n",
    "    magi = transaction\n",
    "    linsting = []\n",
    "    magi = list(magi.keys())\n",
    "    name = 'Ibrahim'\n",
    "    email = 'sulibrahim202@gmail.com'\n",
    "    ipaddd = ['218.12.47.131', '26.51.167.24', '103.83.169.24','141.83.177.155', '179.78.175.197','44.154.58.200', '80.111.139.82','84.69.172.191','126.121.246.110','20.209.253.50','152.58.149.138']     \n",
    "    counter = 1\n",
    "    time_range = end_hour - start_hour\n",
    "    interval = int(time_range / (len(magi) - 1))\n",
    "    current_hour = start_hour\n",
    "\n",
    "    for _ in range(len(magi)):\n",
    "        random_minute = random.randint(0, 59)\n",
    "        random_second = random.randint(0, 59)\n",
    "        random_time = datetime.now().replace(hour=current_hour, minute=random_minute, second=random_second)\n",
    "        dope = magi[-counter]\n",
    "        \n",
    "        #start the object creation\n",
    "        transaction_time = random_time.strftime(\"%H:%M:%S\")\n",
    "        transaction_amount = transaction[dope]\n",
    "        customer_name = name\n",
    "        customer_email = email\n",
    "        transaction_mode = random.choice(['Online Payment', 'Debit Card', 'Bank Transfer'])\n",
    "        ip_address = random.choice(ipaddd)\n",
    "        \n",
    "        linsting.append({\n",
    "            'Date': transaction_date,\n",
    "            'Name': customer_name,\n",
    "            'Email': customer_email,\n",
    "            'Amount': transaction_amount,\n",
    "            'Time': transaction_time,\n",
    "            'IPAddress': ip_address,\n",
    "            'TransactionMode': transaction_mode\n",
    "        })\n",
    "        \n",
    "        current_hour += interval\n",
    "        counter = counter + 1\n",
    "    return linsting\n",
    "\n",
    "\n",
    "transactios = trans\n",
    "coded = genree(transactios, 7, 23)\n",
    "print(coded)\n"
   ]
  },
  {
   "cell_type": "code",
   "execution_count": 11,
   "id": "257a4228",
   "metadata": {},
   "outputs": [],
   "source": [
    "# get_print_dates(start_date, end_date)"
   ]
  },
  {
   "cell_type": "code",
   "execution_count": 46,
   "id": "bf3547b7",
   "metadata": {},
   "outputs": [
    {
     "data": {
      "text/html": [
       "<div>\n",
       "<style scoped>\n",
       "    .dataframe tbody tr th:only-of-type {\n",
       "        vertical-align: middle;\n",
       "    }\n",
       "\n",
       "    .dataframe tbody tr th {\n",
       "        vertical-align: top;\n",
       "    }\n",
       "\n",
       "    .dataframe thead th {\n",
       "        text-align: right;\n",
       "    }\n",
       "</style>\n",
       "<table border=\"1\" class=\"dataframe\">\n",
       "  <thead>\n",
       "    <tr style=\"text-align: right;\">\n",
       "      <th></th>\n",
       "      <th>Name</th>\n",
       "      <th>Email</th>\n",
       "      <th>Amount</th>\n",
       "      <th>Time</th>\n",
       "      <th>IPAddress</th>\n",
       "      <th>TransactionMode</th>\n",
       "    </tr>\n",
       "  </thead>\n",
       "  <tbody>\n",
       "    <tr>\n",
       "      <th>0</th>\n",
       "      <td>Ibrahim</td>\n",
       "      <td>sulibrahim202@gmail.com</td>\n",
       "      <td>50</td>\n",
       "      <td>07:10:04</td>\n",
       "      <td>218.12.47.131</td>\n",
       "      <td>Bank Transfer</td>\n",
       "    </tr>\n",
       "    <tr>\n",
       "      <th>1</th>\n",
       "      <td>Ibrahim</td>\n",
       "      <td>sulibrahim202@gmail.com</td>\n",
       "      <td>10</td>\n",
       "      <td>12:56:29</td>\n",
       "      <td>218.12.47.131</td>\n",
       "      <td>Credit Card</td>\n",
       "    </tr>\n",
       "    <tr>\n",
       "      <th>2</th>\n",
       "      <td>Ibrahim</td>\n",
       "      <td>sulibrahim202@gmail.com</td>\n",
       "      <td>600</td>\n",
       "      <td>17:05:31</td>\n",
       "      <td>218.12.47.131</td>\n",
       "      <td>Credit Card</td>\n",
       "    </tr>\n",
       "    <tr>\n",
       "      <th>3</th>\n",
       "      <td>Ibrahim</td>\n",
       "      <td>sulibrahim202@gmail.com</td>\n",
       "      <td>2500</td>\n",
       "      <td>22:36:05</td>\n",
       "      <td>218.12.47.131</td>\n",
       "      <td>Credit Card</td>\n",
       "    </tr>\n",
       "  </tbody>\n",
       "</table>\n",
       "</div>"
      ],
      "text/plain": [
       "      Name                    Email  Amount      Time      IPAddress  \\\n",
       "0  Ibrahim  sulibrahim202@gmail.com      50  07:10:04  218.12.47.131   \n",
       "1  Ibrahim  sulibrahim202@gmail.com      10  12:56:29  218.12.47.131   \n",
       "2  Ibrahim  sulibrahim202@gmail.com     600  17:05:31  218.12.47.131   \n",
       "3  Ibrahim  sulibrahim202@gmail.com    2500  22:36:05  218.12.47.131   \n",
       "\n",
       "  TransactionMode  \n",
       "0   Bank Transfer  \n",
       "1     Credit Card  \n",
       "2     Credit Card  \n",
       "3     Credit Card  "
      ]
     },
     "execution_count": 46,
     "metadata": {},
     "output_type": "execute_result"
    }
   ],
   "source": [
    "import pandas as pd\n",
    "df = pd.DataFrame(coded)\n",
    "df"
   ]
  },
  {
   "cell_type": "code",
   "execution_count": null,
   "id": "dac179cb",
   "metadata": {},
   "outputs": [],
   "source": []
  },
  {
   "cell_type": "code",
   "execution_count": 18,
   "id": "39fa9691",
   "metadata": {},
   "outputs": [
    {
     "name": "stdout",
     "output_type": "stream",
     "text": [
      "5\n"
     ]
    }
   ],
   "source": [
    "thug = {\n",
    "    'Doughnut': [23, 78, 89],\n",
    "    'Pizza': 45,\n",
    "    'Fun fair': 34,\n",
    "    'Bus': 20,\n",
    "    'Coffee': 12,\n",
    "    'Sweet': 5,\n",
    "    'Mango': 4\n",
    "}\n",
    "\n",
    "del thug['Mango']\n",
    "\n",
    "yui = [5,6,7,7,3]\n",
    "\n",
    "first = next(iter(thug.keys()))\n",
    "second = random.choice(yui)\n",
    "print(second)"
   ]
  },
  {
   "cell_type": "code",
   "execution_count": 73,
   "id": "702bc42e",
   "metadata": {},
   "outputs": [
    {
     "name": "stdout",
     "output_type": "stream",
     "text": [
      "11.88.76.59\n"
     ]
    }
   ],
   "source": [
    "from faker import Faker\n",
    "fake = Faker()\n",
    "migos = fake.ipv4()\n",
    "print(migos)"
   ]
  },
  {
   "cell_type": "code",
   "execution_count": null,
   "id": "62979c6e",
   "metadata": {},
   "outputs": [],
   "source": []
  },
  {
   "cell_type": "code",
   "execution_count": 110,
   "id": "2deb4424",
   "metadata": {},
   "outputs": [
    {
     "name": "stdout",
     "output_type": "stream",
     "text": [
      "[{'Date': '2023-03-01', 'Name': 'Ibrahim', 'Email': 'sulibrahim202@gmail.com', 'Amount': 45, 'Time': '07:35:32', 'IPAddress': '218.12.47.131', 'TransactionMode': 'Online Payment'}, {'Date': '2023-03-01', 'Name': 'Ibrahim', 'Email': 'sulibrahim202@gmail.com', 'Amount': 12, 'Time': '12:04:53', 'IPAddress': '84.69.172.191', 'TransactionMode': 'Bank Transfer'}, {'Date': '2023-03-01', 'Name': 'Ibrahim', 'Email': 'sulibrahim202@gmail.com', 'Amount': 23, 'Time': '17:07:48', 'IPAddress': '80.111.139.82', 'TransactionMode': 'Debit Card'}, {'Date': '2023-03-01', 'Name': 'Ibrahim', 'Email': 'sulibrahim202@gmail.com', 'Amount': 20, 'Time': '22:34:08', 'IPAddress': '179.78.175.197', 'TransactionMode': 'Bank Transfer'}]\n",
      "[{'Date': '2023-03-02', 'Name': 'Ibrahim', 'Email': 'sulibrahim202@gmail.com', 'Amount': 5, 'Time': '07:11:49', 'IPAddress': '44.154.58.200', 'TransactionMode': 'Bank Transfer'}, {'Date': '2023-03-02', 'Name': 'Ibrahim', 'Email': 'sulibrahim202@gmail.com', 'Amount': 34, 'Time': '15:31:04', 'IPAddress': '126.121.246.110', 'TransactionMode': 'Online Payment'}, {'Date': '2023-03-02', 'Name': 'Ibrahim', 'Email': 'sulibrahim202@gmail.com', 'Amount': 20, 'Time': '23:40:15', 'IPAddress': '179.78.175.197', 'TransactionMode': 'Debit Card'}]\n",
      "[{'Date': '2023-03-03', 'Name': 'Ibrahim', 'Email': 'sulibrahim202@gmail.com', 'Amount': 12, 'Time': '07:24:36', 'IPAddress': '44.154.58.200', 'TransactionMode': 'Debit Card'}, {'Date': '2023-03-03', 'Name': 'Ibrahim', 'Email': 'sulibrahim202@gmail.com', 'Amount': 20, 'Time': '11:49:24', 'IPAddress': '152.58.149.138', 'TransactionMode': 'Debit Card'}, {'Date': '2023-03-03', 'Name': 'Ibrahim', 'Email': 'sulibrahim202@gmail.com', 'Amount': 5, 'Time': '15:16:30', 'IPAddress': '80.111.139.82', 'TransactionMode': 'Online Payment'}, {'Date': '2023-03-03', 'Name': 'Ibrahim', 'Email': 'sulibrahim202@gmail.com', 'Amount': 23, 'Time': '19:34:50', 'IPAddress': '141.83.177.155', 'TransactionMode': 'Bank Transfer'}, {'Date': '2023-03-03', 'Name': 'Ibrahim', 'Email': 'sulibrahim202@gmail.com', 'Amount': 45, 'Time': '23:20:30', 'IPAddress': '179.78.175.197', 'TransactionMode': 'Debit Card'}]\n",
      "[{'Date': '2023-03-04', 'Name': 'Ibrahim', 'Email': 'sulibrahim202@gmail.com', 'Amount': 60, 'Time': '07:14:32', 'IPAddress': '26.51.167.24', 'TransactionMode': 'Online Payment'}, {'Date': '2023-03-04', 'Name': 'Ibrahim', 'Email': 'sulibrahim202@gmail.com', 'Amount': 50, 'Time': '15:08:27', 'IPAddress': '26.51.167.24', 'TransactionMode': 'Online Payment'}, {'Date': '2023-03-04', 'Name': 'Ibrahim', 'Email': 'sulibrahim202@gmail.com', 'Amount': 40, 'Time': '23:19:58', 'IPAddress': '126.121.246.110', 'TransactionMode': 'Debit Card'}]\n",
      "[{'Date': '2023-03-05', 'Name': 'Ibrahim', 'Email': 'sulibrahim202@gmail.com', 'Amount': 40, 'Time': '07:08:18', 'IPAddress': '44.154.58.200', 'TransactionMode': 'Debit Card'}, {'Date': '2023-03-05', 'Name': 'Ibrahim', 'Email': 'sulibrahim202@gmail.com', 'Amount': 50, 'Time': '23:07:39', 'IPAddress': '218.12.47.131', 'TransactionMode': 'Debit Card'}]\n",
      "[{'Date': '2023-03-06', 'Name': 'Ibrahim', 'Email': 'sulibrahim202@gmail.com', 'Amount': 34, 'Time': '07:26:28', 'IPAddress': '179.78.175.197', 'TransactionMode': 'Online Payment'}, {'Date': '2023-03-06', 'Name': 'Ibrahim', 'Email': 'sulibrahim202@gmail.com', 'Amount': 23, 'Time': '11:53:33', 'IPAddress': '26.51.167.24', 'TransactionMode': 'Bank Transfer'}, {'Date': '2023-03-06', 'Name': 'Ibrahim', 'Email': 'sulibrahim202@gmail.com', 'Amount': 5, 'Time': '15:51:45', 'IPAddress': '80.111.139.82', 'TransactionMode': 'Online Payment'}, {'Date': '2023-03-06', 'Name': 'Ibrahim', 'Email': 'sulibrahim202@gmail.com', 'Amount': 12, 'Time': '19:19:09', 'IPAddress': '152.58.149.138', 'TransactionMode': 'Bank Transfer'}, {'Date': '2023-03-06', 'Name': 'Ibrahim', 'Email': 'sulibrahim202@gmail.com', 'Amount': 20, 'Time': '23:13:06', 'IPAddress': '218.12.47.131', 'TransactionMode': 'Bank Transfer'}]\n",
      "[{'Date': '2023-03-07', 'Name': 'Ibrahim', 'Email': 'sulibrahim202@gmail.com', 'Amount': 23, 'Time': '07:53:11', 'IPAddress': '126.121.246.110', 'TransactionMode': 'Debit Card'}, {'Date': '2023-03-07', 'Name': 'Ibrahim', 'Email': 'sulibrahim202@gmail.com', 'Amount': 20, 'Time': '12:38:38', 'IPAddress': '20.209.253.50', 'TransactionMode': 'Bank Transfer'}, {'Date': '2023-03-07', 'Name': 'Ibrahim', 'Email': 'sulibrahim202@gmail.com', 'Amount': 5, 'Time': '17:39:28', 'IPAddress': '141.83.177.155', 'TransactionMode': 'Online Payment'}, {'Date': '2023-03-07', 'Name': 'Ibrahim', 'Email': 'sulibrahim202@gmail.com', 'Amount': 34, 'Time': '22:16:41', 'IPAddress': '84.69.172.191', 'TransactionMode': 'Bank Transfer'}]\n",
      "[{'Date': '2023-03-08', 'Name': 'Ibrahim', 'Email': 'sulibrahim202@gmail.com', 'Amount': 45, 'Time': '07:27:41', 'IPAddress': '103.83.169.24', 'TransactionMode': 'Debit Card'}, {'Date': '2023-03-08', 'Name': 'Ibrahim', 'Email': 'sulibrahim202@gmail.com', 'Amount': 20, 'Time': '11:00:06', 'IPAddress': '20.209.253.50', 'TransactionMode': 'Online Payment'}, {'Date': '2023-03-08', 'Name': 'Ibrahim', 'Email': 'sulibrahim202@gmail.com', 'Amount': 5, 'Time': '15:00:26', 'IPAddress': '44.154.58.200', 'TransactionMode': 'Debit Card'}, {'Date': '2023-03-08', 'Name': 'Ibrahim', 'Email': 'sulibrahim202@gmail.com', 'Amount': 23, 'Time': '19:50:08', 'IPAddress': '44.154.58.200', 'TransactionMode': 'Online Payment'}, {'Date': '2023-03-08', 'Name': 'Ibrahim', 'Email': 'sulibrahim202@gmail.com', 'Amount': 34, 'Time': '23:00:26', 'IPAddress': '218.12.47.131', 'TransactionMode': 'Bank Transfer'}]\n",
      "[{'Date': '2023-03-09', 'Name': 'Ibrahim', 'Email': 'sulibrahim202@gmail.com', 'Amount': 45, 'Time': '07:43:57', 'IPAddress': '218.12.47.131', 'TransactionMode': 'Bank Transfer'}, {'Date': '2023-03-09', 'Name': 'Ibrahim', 'Email': 'sulibrahim202@gmail.com', 'Amount': 5, 'Time': '11:11:47', 'IPAddress': '84.69.172.191', 'TransactionMode': 'Debit Card'}, {'Date': '2023-03-09', 'Name': 'Ibrahim', 'Email': 'sulibrahim202@gmail.com', 'Amount': 23, 'Time': '15:45:28', 'IPAddress': '26.51.167.24', 'TransactionMode': 'Bank Transfer'}, {'Date': '2023-03-09', 'Name': 'Ibrahim', 'Email': 'sulibrahim202@gmail.com', 'Amount': 34, 'Time': '19:12:40', 'IPAddress': '152.58.149.138', 'TransactionMode': 'Online Payment'}, {'Date': '2023-03-09', 'Name': 'Ibrahim', 'Email': 'sulibrahim202@gmail.com', 'Amount': 20, 'Time': '23:34:00', 'IPAddress': '152.58.149.138', 'TransactionMode': 'Debit Card'}]\n",
      "[{'Date': '2023-03-10', 'Name': 'Ibrahim', 'Email': 'sulibrahim202@gmail.com', 'Amount': 34, 'Time': '07:17:42', 'IPAddress': '26.51.167.24', 'TransactionMode': 'Debit Card'}, {'Date': '2023-03-10', 'Name': 'Ibrahim', 'Email': 'sulibrahim202@gmail.com', 'Amount': 23, 'Time': '11:47:54', 'IPAddress': '141.83.177.155', 'TransactionMode': 'Online Payment'}, {'Date': '2023-03-10', 'Name': 'Ibrahim', 'Email': 'sulibrahim202@gmail.com', 'Amount': 12, 'Time': '15:12:22', 'IPAddress': '179.78.175.197', 'TransactionMode': 'Debit Card'}, {'Date': '2023-03-10', 'Name': 'Ibrahim', 'Email': 'sulibrahim202@gmail.com', 'Amount': 20, 'Time': '19:20:19', 'IPAddress': '103.83.169.24', 'TransactionMode': 'Online Payment'}, {'Date': '2023-03-10', 'Name': 'Ibrahim', 'Email': 'sulibrahim202@gmail.com', 'Amount': 5, 'Time': '23:30:23', 'IPAddress': '84.69.172.191', 'TransactionMode': 'Debit Card'}]\n",
      "[{'Date': '2023-03-11', 'Name': 'Ibrahim', 'Email': 'sulibrahim202@gmail.com', 'Amount': 70, 'Time': '07:32:35', 'IPAddress': '126.121.246.110', 'TransactionMode': 'Debit Card'}, {'Date': '2023-03-11', 'Name': 'Ibrahim', 'Email': 'sulibrahim202@gmail.com', 'Amount': 60, 'Time': '15:59:00', 'IPAddress': '179.78.175.197', 'TransactionMode': 'Bank Transfer'}, {'Date': '2023-03-11', 'Name': 'Ibrahim', 'Email': 'sulibrahim202@gmail.com', 'Amount': 40, 'Time': '23:05:07', 'IPAddress': '152.58.149.138', 'TransactionMode': 'Bank Transfer'}]\n",
      "[{'Date': '2023-03-12', 'Name': 'Ibrahim', 'Email': 'sulibrahim202@gmail.com', 'Amount': 20, 'Time': '07:08:40', 'IPAddress': '152.58.149.138', 'TransactionMode': 'Debit Card'}, {'Date': '2023-03-12', 'Name': 'Ibrahim', 'Email': 'sulibrahim202@gmail.com', 'Amount': 40, 'Time': '23:28:27', 'IPAddress': '126.121.246.110', 'TransactionMode': 'Debit Card'}]\n",
      "[{'Date': '2023-03-13', 'Name': 'Ibrahim', 'Email': 'sulibrahim202@gmail.com', 'Amount': 20, 'Time': '07:21:38', 'IPAddress': '218.12.47.131', 'TransactionMode': 'Bank Transfer'}, {'Date': '2023-03-13', 'Name': 'Ibrahim', 'Email': 'sulibrahim202@gmail.com', 'Amount': 45, 'Time': '11:51:41', 'IPAddress': '126.121.246.110', 'TransactionMode': 'Debit Card'}, {'Date': '2023-03-13', 'Name': 'Ibrahim', 'Email': 'sulibrahim202@gmail.com', 'Amount': 34, 'Time': '15:30:40', 'IPAddress': '141.83.177.155', 'TransactionMode': 'Debit Card'}, {'Date': '2023-03-13', 'Name': 'Ibrahim', 'Email': 'sulibrahim202@gmail.com', 'Amount': 12, 'Time': '19:10:39', 'IPAddress': '84.69.172.191', 'TransactionMode': 'Bank Transfer'}, {'Date': '2023-03-13', 'Name': 'Ibrahim', 'Email': 'sulibrahim202@gmail.com', 'Amount': 5, 'Time': '23:35:25', 'IPAddress': '80.111.139.82', 'TransactionMode': 'Debit Card'}]\n",
      "[{'Date': '2023-03-14', 'Name': 'Ibrahim', 'Email': 'sulibrahim202@gmail.com', 'Amount': 34, 'Time': '07:14:38', 'IPAddress': '152.58.149.138', 'TransactionMode': 'Online Payment'}, {'Date': '2023-03-14', 'Name': 'Ibrahim', 'Email': 'sulibrahim202@gmail.com', 'Amount': 5, 'Time': '12:04:11', 'IPAddress': '218.12.47.131', 'TransactionMode': 'Bank Transfer'}, {'Date': '2023-03-14', 'Name': 'Ibrahim', 'Email': 'sulibrahim202@gmail.com', 'Amount': 20, 'Time': '17:32:28', 'IPAddress': '44.154.58.200', 'TransactionMode': 'Debit Card'}, {'Date': '2023-03-14', 'Name': 'Ibrahim', 'Email': 'sulibrahim202@gmail.com', 'Amount': 12, 'Time': '22:06:10', 'IPAddress': '218.12.47.131', 'TransactionMode': 'Online Payment'}]\n",
      "[{'Date': '2023-03-15', 'Name': 'Ibrahim', 'Email': 'sulibrahim202@gmail.com', 'Amount': 34, 'Time': '07:01:09', 'IPAddress': '141.83.177.155', 'TransactionMode': 'Bank Transfer'}, {'Date': '2023-03-15', 'Name': 'Ibrahim', 'Email': 'sulibrahim202@gmail.com', 'Amount': 5, 'Time': '15:50:19', 'IPAddress': '141.83.177.155', 'TransactionMode': 'Online Payment'}, {'Date': '2023-03-15', 'Name': 'Ibrahim', 'Email': 'sulibrahim202@gmail.com', 'Amount': 23, 'Time': '23:50:40', 'IPAddress': '26.51.167.24', 'TransactionMode': 'Debit Card'}]\n",
      "[{'Date': '2023-03-16', 'Name': 'Ibrahim', 'Email': 'sulibrahim202@gmail.com', 'Amount': 34, 'Time': '07:03:24', 'IPAddress': '126.121.246.110', 'TransactionMode': 'Bank Transfer'}, {'Date': '2023-03-16', 'Name': 'Ibrahim', 'Email': 'sulibrahim202@gmail.com', 'Amount': 20, 'Time': '12:19:49', 'IPAddress': '20.209.253.50', 'TransactionMode': 'Online Payment'}, {'Date': '2023-03-16', 'Name': 'Ibrahim', 'Email': 'sulibrahim202@gmail.com', 'Amount': 45, 'Time': '17:37:48', 'IPAddress': '179.78.175.197', 'TransactionMode': 'Online Payment'}, {'Date': '2023-03-16', 'Name': 'Ibrahim', 'Email': 'sulibrahim202@gmail.com', 'Amount': 23, 'Time': '22:22:57', 'IPAddress': '103.83.169.24', 'TransactionMode': 'Debit Card'}]\n",
      "[{'Date': '2023-03-17', 'Name': 'Ibrahim', 'Email': 'sulibrahim202@gmail.com', 'Amount': 45, 'Time': '07:52:48', 'IPAddress': '103.83.169.24', 'TransactionMode': 'Bank Transfer'}, {'Date': '2023-03-17', 'Name': 'Ibrahim', 'Email': 'sulibrahim202@gmail.com', 'Amount': 5, 'Time': '11:18:27', 'IPAddress': '179.78.175.197', 'TransactionMode': 'Debit Card'}, {'Date': '2023-03-17', 'Name': 'Ibrahim', 'Email': 'sulibrahim202@gmail.com', 'Amount': 12, 'Time': '15:50:37', 'IPAddress': '126.121.246.110', 'TransactionMode': 'Online Payment'}, {'Date': '2023-03-17', 'Name': 'Ibrahim', 'Email': 'sulibrahim202@gmail.com', 'Amount': 20, 'Time': '19:05:37', 'IPAddress': '80.111.139.82', 'TransactionMode': 'Debit Card'}, {'Date': '2023-03-17', 'Name': 'Ibrahim', 'Email': 'sulibrahim202@gmail.com', 'Amount': 23, 'Time': '23:58:29', 'IPAddress': '126.121.246.110', 'TransactionMode': 'Online Payment'}]\n",
      "[{'Date': '2023-03-18', 'Name': 'Ibrahim', 'Email': 'sulibrahim202@gmail.com', 'Amount': 70, 'Time': '07:07:45', 'IPAddress': '84.69.172.191', 'TransactionMode': 'Bank Transfer'}, {'Date': '2023-03-18', 'Name': 'Ibrahim', 'Email': 'sulibrahim202@gmail.com', 'Amount': 50, 'Time': '15:56:05', 'IPAddress': '141.83.177.155', 'TransactionMode': 'Online Payment'}, {'Date': '2023-03-18', 'Name': 'Ibrahim', 'Email': 'sulibrahim202@gmail.com', 'Amount': 70, 'Time': '23:45:36', 'IPAddress': '44.154.58.200', 'TransactionMode': 'Bank Transfer'}]\n",
      "[{'Date': '2023-03-19', 'Name': 'Ibrahim', 'Email': 'sulibrahim202@gmail.com', 'Amount': 10, 'Time': '07:33:58', 'IPAddress': '141.83.177.155', 'TransactionMode': 'Online Payment'}, {'Date': '2023-03-19', 'Name': 'Ibrahim', 'Email': 'sulibrahim202@gmail.com', 'Amount': 40, 'Time': '15:05:17', 'IPAddress': '141.83.177.155', 'TransactionMode': 'Online Payment'}, {'Date': '2023-03-19', 'Name': 'Ibrahim', 'Email': 'sulibrahim202@gmail.com', 'Amount': 60, 'Time': '23:53:32', 'IPAddress': '80.111.139.82', 'TransactionMode': 'Online Payment'}]\n",
      "[{'Date': '2023-03-20', 'Name': 'Ibrahim', 'Email': 'sulibrahim202@gmail.com', 'Amount': 5, 'Time': '07:26:11', 'IPAddress': '152.58.149.138', 'TransactionMode': 'Bank Transfer'}, {'Date': '2023-03-20', 'Name': 'Ibrahim', 'Email': 'sulibrahim202@gmail.com', 'Amount': 23, 'Time': '11:58:50', 'IPAddress': '103.83.169.24', 'TransactionMode': 'Bank Transfer'}, {'Date': '2023-03-20', 'Name': 'Ibrahim', 'Email': 'sulibrahim202@gmail.com', 'Amount': 20, 'Time': '15:07:58', 'IPAddress': '44.154.58.200', 'TransactionMode': 'Bank Transfer'}, {'Date': '2023-03-20', 'Name': 'Ibrahim', 'Email': 'sulibrahim202@gmail.com', 'Amount': 12, 'Time': '19:39:37', 'IPAddress': '141.83.177.155', 'TransactionMode': 'Bank Transfer'}, {'Date': '2023-03-20', 'Name': 'Ibrahim', 'Email': 'sulibrahim202@gmail.com', 'Amount': 34, 'Time': '23:09:23', 'IPAddress': '80.111.139.82', 'TransactionMode': 'Debit Card'}]\n",
      "[{'Date': '2023-03-21', 'Name': 'Ibrahim', 'Email': 'sulibrahim202@gmail.com', 'Amount': 20, 'Time': '07:58:47', 'IPAddress': '20.209.253.50', 'TransactionMode': 'Bank Transfer'}, {'Date': '2023-03-21', 'Name': 'Ibrahim', 'Email': 'sulibrahim202@gmail.com', 'Amount': 23, 'Time': '12:54:46', 'IPAddress': '44.154.58.200', 'TransactionMode': 'Bank Transfer'}, {'Date': '2023-03-21', 'Name': 'Ibrahim', 'Email': 'sulibrahim202@gmail.com', 'Amount': 34, 'Time': '17:23:47', 'IPAddress': '26.51.167.24', 'TransactionMode': 'Debit Card'}, {'Date': '2023-03-21', 'Name': 'Ibrahim', 'Email': 'sulibrahim202@gmail.com', 'Amount': 12, 'Time': '22:29:16', 'IPAddress': '103.83.169.24', 'TransactionMode': 'Online Payment'}]\n",
      "[{'Date': '2023-03-22', 'Name': 'Ibrahim', 'Email': 'sulibrahim202@gmail.com', 'Amount': 20, 'Time': '07:38:30', 'IPAddress': '84.69.172.191', 'TransactionMode': 'Debit Card'}, {'Date': '2023-03-22', 'Name': 'Ibrahim', 'Email': 'sulibrahim202@gmail.com', 'Amount': 34, 'Time': '15:47:22', 'IPAddress': '179.78.175.197', 'TransactionMode': 'Debit Card'}, {'Date': '2023-03-22', 'Name': 'Ibrahim', 'Email': 'sulibrahim202@gmail.com', 'Amount': 45, 'Time': '23:06:48', 'IPAddress': '103.83.169.24', 'TransactionMode': 'Debit Card'}]\n",
      "[{'Date': '2023-03-23', 'Name': 'Ibrahim', 'Email': 'sulibrahim202@gmail.com', 'Amount': 23, 'Time': '07:15:24', 'IPAddress': '20.209.253.50', 'TransactionMode': 'Bank Transfer'}, {'Date': '2023-03-23', 'Name': 'Ibrahim', 'Email': 'sulibrahim202@gmail.com', 'Amount': 20, 'Time': '11:55:42', 'IPAddress': '218.12.47.131', 'TransactionMode': 'Online Payment'}, {'Date': '2023-03-23', 'Name': 'Ibrahim', 'Email': 'sulibrahim202@gmail.com', 'Amount': 5, 'Time': '15:18:05', 'IPAddress': '80.111.139.82', 'TransactionMode': 'Online Payment'}, {'Date': '2023-03-23', 'Name': 'Ibrahim', 'Email': 'sulibrahim202@gmail.com', 'Amount': 45, 'Time': '19:41:11', 'IPAddress': '103.83.169.24', 'TransactionMode': 'Online Payment'}, {'Date': '2023-03-23', 'Name': 'Ibrahim', 'Email': 'sulibrahim202@gmail.com', 'Amount': 12, 'Time': '23:22:09', 'IPAddress': '84.69.172.191', 'TransactionMode': 'Online Payment'}]\n",
      "[{'Date': '2023-03-24', 'Name': 'Ibrahim', 'Email': 'sulibrahim202@gmail.com', 'Amount': 12, 'Time': '07:22:21', 'IPAddress': '179.78.175.197', 'TransactionMode': 'Bank Transfer'}, {'Date': '2023-03-24', 'Name': 'Ibrahim', 'Email': 'sulibrahim202@gmail.com', 'Amount': 20, 'Time': '15:02:41', 'IPAddress': '20.209.253.50', 'TransactionMode': 'Bank Transfer'}, {'Date': '2023-03-24', 'Name': 'Ibrahim', 'Email': 'sulibrahim202@gmail.com', 'Amount': 23, 'Time': '23:48:35', 'IPAddress': '26.51.167.24', 'TransactionMode': 'Online Payment'}]\n",
      "[{'Date': '2023-03-25', 'Name': 'Ibrahim', 'Email': 'sulibrahim202@gmail.com', 'Amount': 60, 'Time': '07:02:13', 'IPAddress': '44.154.58.200', 'TransactionMode': 'Debit Card'}, {'Date': '2023-03-25', 'Name': 'Ibrahim', 'Email': 'sulibrahim202@gmail.com', 'Amount': 10, 'Time': '15:22:37', 'IPAddress': '141.83.177.155', 'TransactionMode': 'Online Payment'}, {'Date': '2023-03-25', 'Name': 'Ibrahim', 'Email': 'sulibrahim202@gmail.com', 'Amount': 70, 'Time': '23:22:26', 'IPAddress': '141.83.177.155', 'TransactionMode': 'Online Payment'}]\n",
      "[{'Date': '2023-03-26', 'Name': 'Ibrahim', 'Email': 'sulibrahim202@gmail.com', 'Amount': 70, 'Time': '07:36:52', 'IPAddress': '103.83.169.24', 'TransactionMode': 'Debit Card'}, {'Date': '2023-03-26', 'Name': 'Ibrahim', 'Email': 'sulibrahim202@gmail.com', 'Amount': 70, 'Time': '15:13:34', 'IPAddress': '20.209.253.50', 'TransactionMode': 'Bank Transfer'}, {'Date': '2023-03-26', 'Name': 'Ibrahim', 'Email': 'sulibrahim202@gmail.com', 'Amount': 50, 'Time': '23:41:11', 'IPAddress': '103.83.169.24', 'TransactionMode': 'Bank Transfer'}]\n",
      "[{'Date': '2023-03-27', 'Name': 'Ibrahim', 'Email': 'sulibrahim202@gmail.com', 'Amount': 45, 'Time': '07:17:44', 'IPAddress': '84.69.172.191', 'TransactionMode': 'Bank Transfer'}, {'Date': '2023-03-27', 'Name': 'Ibrahim', 'Email': 'sulibrahim202@gmail.com', 'Amount': 34, 'Time': '11:27:34', 'IPAddress': '103.83.169.24', 'TransactionMode': 'Debit Card'}, {'Date': '2023-03-27', 'Name': 'Ibrahim', 'Email': 'sulibrahim202@gmail.com', 'Amount': 5, 'Time': '15:26:20', 'IPAddress': '103.83.169.24', 'TransactionMode': 'Online Payment'}, {'Date': '2023-03-27', 'Name': 'Ibrahim', 'Email': 'sulibrahim202@gmail.com', 'Amount': 20, 'Time': '19:40:37', 'IPAddress': '218.12.47.131', 'TransactionMode': 'Debit Card'}, {'Date': '2023-03-27', 'Name': 'Ibrahim', 'Email': 'sulibrahim202@gmail.com', 'Amount': 12, 'Time': '23:58:56', 'IPAddress': '44.154.58.200', 'TransactionMode': 'Bank Transfer'}]\n",
      "[{'Date': '2023-03-28', 'Name': 'Ibrahim', 'Email': 'sulibrahim202@gmail.com', 'Amount': 23, 'Time': '07:59:40', 'IPAddress': '152.58.149.138', 'TransactionMode': 'Online Payment'}, {'Date': '2023-03-28', 'Name': 'Ibrahim', 'Email': 'sulibrahim202@gmail.com', 'Amount': 12, 'Time': '11:38:46', 'IPAddress': '152.58.149.138', 'TransactionMode': 'Bank Transfer'}, {'Date': '2023-03-28', 'Name': 'Ibrahim', 'Email': 'sulibrahim202@gmail.com', 'Amount': 34, 'Time': '15:02:22', 'IPAddress': '179.78.175.197', 'TransactionMode': 'Online Payment'}, {'Date': '2023-03-28', 'Name': 'Ibrahim', 'Email': 'sulibrahim202@gmail.com', 'Amount': 20, 'Time': '19:38:05', 'IPAddress': '84.69.172.191', 'TransactionMode': 'Bank Transfer'}, {'Date': '2023-03-28', 'Name': 'Ibrahim', 'Email': 'sulibrahim202@gmail.com', 'Amount': 5, 'Time': '23:05:46', 'IPAddress': '179.78.175.197', 'TransactionMode': 'Online Payment'}]\n",
      "[{'Date': '2023-03-29', 'Name': 'Ibrahim', 'Email': 'sulibrahim202@gmail.com', 'Amount': 12, 'Time': '07:03:01', 'IPAddress': '44.154.58.200', 'TransactionMode': 'Online Payment'}, {'Date': '2023-03-29', 'Name': 'Ibrahim', 'Email': 'sulibrahim202@gmail.com', 'Amount': 20, 'Time': '11:53:19', 'IPAddress': '80.111.139.82', 'TransactionMode': 'Online Payment'}, {'Date': '2023-03-29', 'Name': 'Ibrahim', 'Email': 'sulibrahim202@gmail.com', 'Amount': 23, 'Time': '15:51:10', 'IPAddress': '152.58.149.138', 'TransactionMode': 'Online Payment'}, {'Date': '2023-03-29', 'Name': 'Ibrahim', 'Email': 'sulibrahim202@gmail.com', 'Amount': 45, 'Time': '19:00:09', 'IPAddress': '26.51.167.24', 'TransactionMode': 'Bank Transfer'}, {'Date': '2023-03-29', 'Name': 'Ibrahim', 'Email': 'sulibrahim202@gmail.com', 'Amount': 5, 'Time': '23:02:03', 'IPAddress': '84.69.172.191', 'TransactionMode': 'Debit Card'}]\n",
      "[{'Date': '2023-03-30', 'Name': 'Ibrahim', 'Email': 'sulibrahim202@gmail.com', 'Amount': 23, 'Time': '07:10:06', 'IPAddress': '141.83.177.155', 'TransactionMode': 'Debit Card'}, {'Date': '2023-03-30', 'Name': 'Ibrahim', 'Email': 'sulibrahim202@gmail.com', 'Amount': 20, 'Time': '11:26:50', 'IPAddress': '218.12.47.131', 'TransactionMode': 'Online Payment'}, {'Date': '2023-03-30', 'Name': 'Ibrahim', 'Email': 'sulibrahim202@gmail.com', 'Amount': 5, 'Time': '15:44:12', 'IPAddress': '44.154.58.200', 'TransactionMode': 'Bank Transfer'}, {'Date': '2023-03-30', 'Name': 'Ibrahim', 'Email': 'sulibrahim202@gmail.com', 'Amount': 45, 'Time': '19:02:41', 'IPAddress': '179.78.175.197', 'TransactionMode': 'Debit Card'}, {'Date': '2023-03-30', 'Name': 'Ibrahim', 'Email': 'sulibrahim202@gmail.com', 'Amount': 34, 'Time': '23:02:52', 'IPAddress': '103.83.169.24', 'TransactionMode': 'Bank Transfer'}]\n",
      "[{'Date': '2023-03-31', 'Name': 'Ibrahim', 'Email': 'sulibrahim202@gmail.com', 'Amount': 34, 'Time': '07:59:23', 'IPAddress': '218.12.47.131', 'TransactionMode': 'Bank Transfer'}, {'Date': '2023-03-31', 'Name': 'Ibrahim', 'Email': 'sulibrahim202@gmail.com', 'Amount': 45, 'Time': '09:40:03', 'IPAddress': '126.121.246.110', 'TransactionMode': 'Online Payment'}, {'Date': '2023-03-31', 'Name': 'Ibrahim', 'Email': 'sulibrahim202@gmail.com', 'Amount': 20, 'Time': '11:39:27', 'IPAddress': '179.78.175.197', 'TransactionMode': 'Online Payment'}, {'Date': '2023-03-31', 'Name': 'Ibrahim', 'Email': 'sulibrahim202@gmail.com', 'Amount': 23, 'Time': '13:16:46', 'IPAddress': '218.12.47.131', 'TransactionMode': 'Bank Transfer'}, {'Date': '2023-03-31', 'Name': 'Ibrahim', 'Email': 'sulibrahim202@gmail.com', 'Amount': 12, 'Time': '15:18:47', 'IPAddress': '126.121.246.110', 'TransactionMode': 'Debit Card'}, {'Date': '2023-03-31', 'Name': 'Ibrahim', 'Email': 'sulibrahim202@gmail.com', 'Amount': 100, 'Time': '17:20:14', 'IPAddress': '103.83.169.24', 'TransactionMode': 'Online Payment'}, {'Date': '2023-03-31', 'Name': 'Ibrahim', 'Email': 'sulibrahim202@gmail.com', 'Amount': 1500, 'Time': '19:13:21', 'IPAddress': '141.83.177.155', 'TransactionMode': 'Debit Card'}]\n",
      "[{'Date': '2023-04-01', 'Name': 'Ibrahim', 'Email': 'sulibrahim202@gmail.com', 'Amount': 60, 'Time': '07:08:48', 'IPAddress': '20.209.253.50', 'TransactionMode': 'Online Payment'}, {'Date': '2023-04-01', 'Name': 'Ibrahim', 'Email': 'sulibrahim202@gmail.com', 'Amount': 60, 'Time': '15:35:30', 'IPAddress': '26.51.167.24', 'TransactionMode': 'Debit Card'}, {'Date': '2023-04-01', 'Name': 'Ibrahim', 'Email': 'sulibrahim202@gmail.com', 'Amount': 60, 'Time': '23:09:26', 'IPAddress': '152.58.149.138', 'TransactionMode': 'Online Payment'}]\n",
      "[{'Date': '2023-04-02', 'Name': 'Ibrahim', 'Email': 'sulibrahim202@gmail.com', 'Amount': 40, 'Time': '07:49:48', 'IPAddress': '179.78.175.197', 'TransactionMode': 'Bank Transfer'}, {'Date': '2023-04-02', 'Name': 'Ibrahim', 'Email': 'sulibrahim202@gmail.com', 'Amount': 20, 'Time': '23:20:15', 'IPAddress': '80.111.139.82', 'TransactionMode': 'Debit Card'}]\n",
      "[{'Date': '2023-04-03', 'Name': 'Ibrahim', 'Email': 'sulibrahim202@gmail.com', 'Amount': 20, 'Time': '07:54:13', 'IPAddress': '179.78.175.197', 'TransactionMode': 'Bank Transfer'}, {'Date': '2023-04-03', 'Name': 'Ibrahim', 'Email': 'sulibrahim202@gmail.com', 'Amount': 12, 'Time': '15:54:04', 'IPAddress': '26.51.167.24', 'TransactionMode': 'Online Payment'}, {'Date': '2023-04-03', 'Name': 'Ibrahim', 'Email': 'sulibrahim202@gmail.com', 'Amount': 5, 'Time': '23:13:22', 'IPAddress': '26.51.167.24', 'TransactionMode': 'Debit Card'}]\n",
      "[{'Date': '2023-04-04', 'Name': 'Ibrahim', 'Email': 'sulibrahim202@gmail.com', 'Amount': 34, 'Time': '07:59:18', 'IPAddress': '179.78.175.197', 'TransactionMode': 'Online Payment'}, {'Date': '2023-04-04', 'Name': 'Ibrahim', 'Email': 'sulibrahim202@gmail.com', 'Amount': 45, 'Time': '11:39:37', 'IPAddress': '20.209.253.50', 'TransactionMode': 'Online Payment'}, {'Date': '2023-04-04', 'Name': 'Ibrahim', 'Email': 'sulibrahim202@gmail.com', 'Amount': 12, 'Time': '15:18:59', 'IPAddress': '126.121.246.110', 'TransactionMode': 'Debit Card'}, {'Date': '2023-04-04', 'Name': 'Ibrahim', 'Email': 'sulibrahim202@gmail.com', 'Amount': 20, 'Time': '19:20:36', 'IPAddress': '103.83.169.24', 'TransactionMode': 'Debit Card'}, {'Date': '2023-04-04', 'Name': 'Ibrahim', 'Email': 'sulibrahim202@gmail.com', 'Amount': 23, 'Time': '23:50:13', 'IPAddress': '20.209.253.50', 'TransactionMode': 'Online Payment'}]\n",
      "[{'Date': '2023-04-05', 'Name': 'Ibrahim', 'Email': 'sulibrahim202@gmail.com', 'Amount': 34, 'Time': '07:25:33', 'IPAddress': '84.69.172.191', 'TransactionMode': 'Debit Card'}, {'Date': '2023-04-05', 'Name': 'Ibrahim', 'Email': 'sulibrahim202@gmail.com', 'Amount': 12, 'Time': '12:29:29', 'IPAddress': '44.154.58.200', 'TransactionMode': 'Debit Card'}, {'Date': '2023-04-05', 'Name': 'Ibrahim', 'Email': 'sulibrahim202@gmail.com', 'Amount': 45, 'Time': '17:46:33', 'IPAddress': '179.78.175.197', 'TransactionMode': 'Online Payment'}, {'Date': '2023-04-05', 'Name': 'Ibrahim', 'Email': 'sulibrahim202@gmail.com', 'Amount': 5, 'Time': '22:31:58', 'IPAddress': '218.12.47.131', 'TransactionMode': 'Debit Card'}]\n",
      "[{'Date': '2023-04-06', 'Name': 'Ibrahim', 'Email': 'sulibrahim202@gmail.com', 'Amount': 23, 'Time': '07:59:28', 'IPAddress': '26.51.167.24', 'TransactionMode': 'Debit Card'}, {'Date': '2023-04-06', 'Name': 'Ibrahim', 'Email': 'sulibrahim202@gmail.com', 'Amount': 12, 'Time': '15:38:20', 'IPAddress': '80.111.139.82', 'TransactionMode': 'Bank Transfer'}, {'Date': '2023-04-06', 'Name': 'Ibrahim', 'Email': 'sulibrahim202@gmail.com', 'Amount': 45, 'Time': '23:08:35', 'IPAddress': '80.111.139.82', 'TransactionMode': 'Bank Transfer'}]\n",
      "[{'Date': '2023-04-07', 'Name': 'Ibrahim', 'Email': 'sulibrahim202@gmail.com', 'Amount': 20, 'Time': '07:12:41', 'IPAddress': '218.12.47.131', 'TransactionMode': 'Bank Transfer'}, {'Date': '2023-04-07', 'Name': 'Ibrahim', 'Email': 'sulibrahim202@gmail.com', 'Amount': 12, 'Time': '11:38:00', 'IPAddress': '141.83.177.155', 'TransactionMode': 'Debit Card'}, {'Date': '2023-04-07', 'Name': 'Ibrahim', 'Email': 'sulibrahim202@gmail.com', 'Amount': 34, 'Time': '15:47:15', 'IPAddress': '20.209.253.50', 'TransactionMode': 'Debit Card'}, {'Date': '2023-04-07', 'Name': 'Ibrahim', 'Email': 'sulibrahim202@gmail.com', 'Amount': 5, 'Time': '19:11:18', 'IPAddress': '103.83.169.24', 'TransactionMode': 'Bank Transfer'}, {'Date': '2023-04-07', 'Name': 'Ibrahim', 'Email': 'sulibrahim202@gmail.com', 'Amount': 45, 'Time': '23:50:48', 'IPAddress': '26.51.167.24', 'TransactionMode': 'Debit Card'}]\n",
      "[{'Date': '2023-04-08', 'Name': 'Ibrahim', 'Email': 'sulibrahim202@gmail.com', 'Amount': 10, 'Time': '07:48:08', 'IPAddress': '141.83.177.155', 'TransactionMode': 'Debit Card'}, {'Date': '2023-04-08', 'Name': 'Ibrahim', 'Email': 'sulibrahim202@gmail.com', 'Amount': 20, 'Time': '23:52:29', 'IPAddress': '103.83.169.24', 'TransactionMode': 'Online Payment'}]\n",
      "[{'Date': '2023-04-09', 'Name': 'Ibrahim', 'Email': 'sulibrahim202@gmail.com', 'Amount': 60, 'Time': '07:26:07', 'IPAddress': '141.83.177.155', 'TransactionMode': 'Debit Card'}, {'Date': '2023-04-09', 'Name': 'Ibrahim', 'Email': 'sulibrahim202@gmail.com', 'Amount': 10, 'Time': '15:32:45', 'IPAddress': '80.111.139.82', 'TransactionMode': 'Online Payment'}, {'Date': '2023-04-09', 'Name': 'Ibrahim', 'Email': 'sulibrahim202@gmail.com', 'Amount': 40, 'Time': '23:15:06', 'IPAddress': '152.58.149.138', 'TransactionMode': 'Bank Transfer'}]\n",
      "[{'Date': '2023-04-10', 'Name': 'Ibrahim', 'Email': 'sulibrahim202@gmail.com', 'Amount': 5, 'Time': '07:01:56', 'IPAddress': '20.209.253.50', 'TransactionMode': 'Debit Card'}, {'Date': '2023-04-10', 'Name': 'Ibrahim', 'Email': 'sulibrahim202@gmail.com', 'Amount': 45, 'Time': '11:27:48', 'IPAddress': '84.69.172.191', 'TransactionMode': 'Online Payment'}, {'Date': '2023-04-10', 'Name': 'Ibrahim', 'Email': 'sulibrahim202@gmail.com', 'Amount': 12, 'Time': '15:10:09', 'IPAddress': '152.58.149.138', 'TransactionMode': 'Bank Transfer'}, {'Date': '2023-04-10', 'Name': 'Ibrahim', 'Email': 'sulibrahim202@gmail.com', 'Amount': 34, 'Time': '19:49:01', 'IPAddress': '179.78.175.197', 'TransactionMode': 'Online Payment'}, {'Date': '2023-04-10', 'Name': 'Ibrahim', 'Email': 'sulibrahim202@gmail.com', 'Amount': 20, 'Time': '23:00:27', 'IPAddress': '126.121.246.110', 'TransactionMode': 'Online Payment'}]\n",
      "[{'Date': '2023-04-11', 'Name': 'Ibrahim', 'Email': 'sulibrahim202@gmail.com', 'Amount': 5, 'Time': '07:54:00', 'IPAddress': '141.83.177.155', 'TransactionMode': 'Debit Card'}, {'Date': '2023-04-11', 'Name': 'Ibrahim', 'Email': 'sulibrahim202@gmail.com', 'Amount': 20, 'Time': '11:56:50', 'IPAddress': '126.121.246.110', 'TransactionMode': 'Bank Transfer'}, {'Date': '2023-04-11', 'Name': 'Ibrahim', 'Email': 'sulibrahim202@gmail.com', 'Amount': 34, 'Time': '15:36:52', 'IPAddress': '26.51.167.24', 'TransactionMode': 'Bank Transfer'}, {'Date': '2023-04-11', 'Name': 'Ibrahim', 'Email': 'sulibrahim202@gmail.com', 'Amount': 12, 'Time': '19:49:25', 'IPAddress': '179.78.175.197', 'TransactionMode': 'Online Payment'}, {'Date': '2023-04-11', 'Name': 'Ibrahim', 'Email': 'sulibrahim202@gmail.com', 'Amount': 45, 'Time': '23:35:42', 'IPAddress': '80.111.139.82', 'TransactionMode': 'Online Payment'}]\n",
      "[{'Date': '2023-04-12', 'Name': 'Ibrahim', 'Email': 'sulibrahim202@gmail.com', 'Amount': 12, 'Time': '07:18:52', 'IPAddress': '126.121.246.110', 'TransactionMode': 'Online Payment'}, {'Date': '2023-04-12', 'Name': 'Ibrahim', 'Email': 'sulibrahim202@gmail.com', 'Amount': 45, 'Time': '11:52:05', 'IPAddress': '20.209.253.50', 'TransactionMode': 'Online Payment'}, {'Date': '2023-04-12', 'Name': 'Ibrahim', 'Email': 'sulibrahim202@gmail.com', 'Amount': 23, 'Time': '15:16:21', 'IPAddress': '26.51.167.24', 'TransactionMode': 'Online Payment'}, {'Date': '2023-04-12', 'Name': 'Ibrahim', 'Email': 'sulibrahim202@gmail.com', 'Amount': 20, 'Time': '19:27:17', 'IPAddress': '179.78.175.197', 'TransactionMode': 'Bank Transfer'}, {'Date': '2023-04-12', 'Name': 'Ibrahim', 'Email': 'sulibrahim202@gmail.com', 'Amount': 34, 'Time': '23:48:00', 'IPAddress': '103.83.169.24', 'TransactionMode': 'Bank Transfer'}]\n",
      "[{'Date': '2023-04-13', 'Name': 'Ibrahim', 'Email': 'sulibrahim202@gmail.com', 'Amount': 23, 'Time': '07:29:51', 'IPAddress': '80.111.139.82', 'TransactionMode': 'Bank Transfer'}, {'Date': '2023-04-13', 'Name': 'Ibrahim', 'Email': 'sulibrahim202@gmail.com', 'Amount': 34, 'Time': '12:12:15', 'IPAddress': '80.111.139.82', 'TransactionMode': 'Online Payment'}, {'Date': '2023-04-13', 'Name': 'Ibrahim', 'Email': 'sulibrahim202@gmail.com', 'Amount': 20, 'Time': '17:03:12', 'IPAddress': '218.12.47.131', 'TransactionMode': 'Bank Transfer'}, {'Date': '2023-04-13', 'Name': 'Ibrahim', 'Email': 'sulibrahim202@gmail.com', 'Amount': 5, 'Time': '22:48:03', 'IPAddress': '84.69.172.191', 'TransactionMode': 'Bank Transfer'}]\n",
      "[{'Date': '2023-04-14', 'Name': 'Ibrahim', 'Email': 'sulibrahim202@gmail.com', 'Amount': 5, 'Time': '07:21:45', 'IPAddress': '26.51.167.24', 'TransactionMode': 'Online Payment'}, {'Date': '2023-04-14', 'Name': 'Ibrahim', 'Email': 'sulibrahim202@gmail.com', 'Amount': 23, 'Time': '12:03:02', 'IPAddress': '103.83.169.24', 'TransactionMode': 'Bank Transfer'}, {'Date': '2023-04-14', 'Name': 'Ibrahim', 'Email': 'sulibrahim202@gmail.com', 'Amount': 45, 'Time': '17:05:40', 'IPAddress': '141.83.177.155', 'TransactionMode': 'Online Payment'}, {'Date': '2023-04-14', 'Name': 'Ibrahim', 'Email': 'sulibrahim202@gmail.com', 'Amount': 34, 'Time': '22:01:49', 'IPAddress': '26.51.167.24', 'TransactionMode': 'Online Payment'}]\n",
      "[{'Date': '2023-04-15', 'Name': 'Ibrahim', 'Email': 'sulibrahim202@gmail.com', 'Amount': 70, 'Time': '07:31:52', 'IPAddress': '218.12.47.131', 'TransactionMode': 'Online Payment'}, {'Date': '2023-04-15', 'Name': 'Ibrahim', 'Email': 'sulibrahim202@gmail.com', 'Amount': 100, 'Time': '15:48:21', 'IPAddress': '103.83.169.24', 'TransactionMode': 'Debit Card'}, {'Date': '2023-04-15', 'Name': 'Ibrahim', 'Email': 'sulibrahim202@gmail.com', 'Amount': 50, 'Time': '23:11:25', 'IPAddress': '179.78.175.197', 'TransactionMode': 'Debit Card'}]\n",
      "[{'Date': '2023-04-16', 'Name': 'Ibrahim', 'Email': 'sulibrahim202@gmail.com', 'Amount': 5, 'Time': '07:51:04', 'IPAddress': '152.58.149.138', 'TransactionMode': 'Bank Transfer'}, {'Date': '2023-04-16', 'Name': 'Ibrahim', 'Email': 'sulibrahim202@gmail.com', 'Amount': 10, 'Time': '15:29:14', 'IPAddress': '80.111.139.82', 'TransactionMode': 'Online Payment'}, {'Date': '2023-04-16', 'Name': 'Ibrahim', 'Email': 'sulibrahim202@gmail.com', 'Amount': 25, 'Time': '23:40:41', 'IPAddress': '218.12.47.131', 'TransactionMode': 'Online Payment'}]\n",
      "[{'Date': '2023-04-17', 'Name': 'Ibrahim', 'Email': 'sulibrahim202@gmail.com', 'Amount': 34, 'Time': '07:19:31', 'IPAddress': '103.83.169.24', 'TransactionMode': 'Debit Card'}, {'Date': '2023-04-17', 'Name': 'Ibrahim', 'Email': 'sulibrahim202@gmail.com', 'Amount': 23, 'Time': '11:34:13', 'IPAddress': '20.209.253.50', 'TransactionMode': 'Online Payment'}, {'Date': '2023-04-17', 'Name': 'Ibrahim', 'Email': 'sulibrahim202@gmail.com', 'Amount': 5, 'Time': '15:33:49', 'IPAddress': '103.83.169.24', 'TransactionMode': 'Online Payment'}, {'Date': '2023-04-17', 'Name': 'Ibrahim', 'Email': 'sulibrahim202@gmail.com', 'Amount': 45, 'Time': '19:54:45', 'IPAddress': '152.58.149.138', 'TransactionMode': 'Debit Card'}, {'Date': '2023-04-17', 'Name': 'Ibrahim', 'Email': 'sulibrahim202@gmail.com', 'Amount': 20, 'Time': '23:31:49', 'IPAddress': '84.69.172.191', 'TransactionMode': 'Bank Transfer'}]\n",
      "[{'Date': '2023-04-18', 'Name': 'Ibrahim', 'Email': 'sulibrahim202@gmail.com', 'Amount': 5, 'Time': '07:05:11', 'IPAddress': '126.121.246.110', 'TransactionMode': 'Debit Card'}, {'Date': '2023-04-18', 'Name': 'Ibrahim', 'Email': 'sulibrahim202@gmail.com', 'Amount': 45, 'Time': '15:48:33', 'IPAddress': '84.69.172.191', 'TransactionMode': 'Online Payment'}, {'Date': '2023-04-18', 'Name': 'Ibrahim', 'Email': 'sulibrahim202@gmail.com', 'Amount': 23, 'Time': '23:47:07', 'IPAddress': '44.154.58.200', 'TransactionMode': 'Bank Transfer'}]\n",
      "[{'Date': '2023-04-19', 'Name': 'Ibrahim', 'Email': 'sulibrahim202@gmail.com', 'Amount': 45, 'Time': '07:18:42', 'IPAddress': '26.51.167.24', 'TransactionMode': 'Debit Card'}, {'Date': '2023-04-19', 'Name': 'Ibrahim', 'Email': 'sulibrahim202@gmail.com', 'Amount': 23, 'Time': '15:51:31', 'IPAddress': '126.121.246.110', 'TransactionMode': 'Online Payment'}, {'Date': '2023-04-19', 'Name': 'Ibrahim', 'Email': 'sulibrahim202@gmail.com', 'Amount': 5, 'Time': '23:14:04', 'IPAddress': '44.154.58.200', 'TransactionMode': 'Online Payment'}]\n",
      "[{'Date': '2023-04-20', 'Name': 'Ibrahim', 'Email': 'sulibrahim202@gmail.com', 'Amount': 34, 'Time': '07:15:11', 'IPAddress': '44.154.58.200', 'TransactionMode': 'Bank Transfer'}, {'Date': '2023-04-20', 'Name': 'Ibrahim', 'Email': 'sulibrahim202@gmail.com', 'Amount': 5, 'Time': '11:07:11', 'IPAddress': '20.209.253.50', 'TransactionMode': 'Bank Transfer'}, {'Date': '2023-04-20', 'Name': 'Ibrahim', 'Email': 'sulibrahim202@gmail.com', 'Amount': 12, 'Time': '15:45:55', 'IPAddress': '218.12.47.131', 'TransactionMode': 'Bank Transfer'}, {'Date': '2023-04-20', 'Name': 'Ibrahim', 'Email': 'sulibrahim202@gmail.com', 'Amount': 45, 'Time': '19:03:06', 'IPAddress': '126.121.246.110', 'TransactionMode': 'Bank Transfer'}, {'Date': '2023-04-20', 'Name': 'Ibrahim', 'Email': 'sulibrahim202@gmail.com', 'Amount': 23, 'Time': '23:26:46', 'IPAddress': '20.209.253.50', 'TransactionMode': 'Online Payment'}]\n",
      "[{'Date': '2023-04-21', 'Name': 'Ibrahim', 'Email': 'sulibrahim202@gmail.com', 'Amount': 20, 'Time': '07:39:28', 'IPAddress': '126.121.246.110', 'TransactionMode': 'Bank Transfer'}, {'Date': '2023-04-21', 'Name': 'Ibrahim', 'Email': 'sulibrahim202@gmail.com', 'Amount': 45, 'Time': '11:13:38', 'IPAddress': '218.12.47.131', 'TransactionMode': 'Bank Transfer'}, {'Date': '2023-04-21', 'Name': 'Ibrahim', 'Email': 'sulibrahim202@gmail.com', 'Amount': 12, 'Time': '15:38:27', 'IPAddress': '84.69.172.191', 'TransactionMode': 'Bank Transfer'}, {'Date': '2023-04-21', 'Name': 'Ibrahim', 'Email': 'sulibrahim202@gmail.com', 'Amount': 5, 'Time': '19:15:07', 'IPAddress': '103.83.169.24', 'TransactionMode': 'Bank Transfer'}, {'Date': '2023-04-21', 'Name': 'Ibrahim', 'Email': 'sulibrahim202@gmail.com', 'Amount': 23, 'Time': '23:22:52', 'IPAddress': '103.83.169.24', 'TransactionMode': 'Bank Transfer'}]\n",
      "[{'Date': '2023-04-22', 'Name': 'Ibrahim', 'Email': 'sulibrahim202@gmail.com', 'Amount': 20, 'Time': '07:00:44', 'IPAddress': '84.69.172.191', 'TransactionMode': 'Debit Card'}, {'Date': '2023-04-22', 'Name': 'Ibrahim', 'Email': 'sulibrahim202@gmail.com', 'Amount': 28, 'Time': '15:26:31', 'IPAddress': '141.83.177.155', 'TransactionMode': 'Online Payment'}, {'Date': '2023-04-22', 'Name': 'Ibrahim', 'Email': 'sulibrahim202@gmail.com', 'Amount': 40, 'Time': '23:33:40', 'IPAddress': '80.111.139.82', 'TransactionMode': 'Bank Transfer'}]\n",
      "[{'Date': '2023-04-23', 'Name': 'Ibrahim', 'Email': 'sulibrahim202@gmail.com', 'Amount': 60, 'Time': '07:00:47', 'IPAddress': '103.83.169.24', 'TransactionMode': 'Debit Card'}, {'Date': '2023-04-23', 'Name': 'Ibrahim', 'Email': 'sulibrahim202@gmail.com', 'Amount': 70, 'Time': '15:08:04', 'IPAddress': '126.121.246.110', 'TransactionMode': 'Online Payment'}, {'Date': '2023-04-23', 'Name': 'Ibrahim', 'Email': 'sulibrahim202@gmail.com', 'Amount': 70, 'Time': '23:02:18', 'IPAddress': '20.209.253.50', 'TransactionMode': 'Online Payment'}]\n",
      "[{'Date': '2023-04-24', 'Name': 'Ibrahim', 'Email': 'sulibrahim202@gmail.com', 'Amount': 34, 'Time': '07:16:34', 'IPAddress': '218.12.47.131', 'TransactionMode': 'Debit Card'}, {'Date': '2023-04-24', 'Name': 'Ibrahim', 'Email': 'sulibrahim202@gmail.com', 'Amount': 23, 'Time': '11:23:31', 'IPAddress': '141.83.177.155', 'TransactionMode': 'Bank Transfer'}, {'Date': '2023-04-24', 'Name': 'Ibrahim', 'Email': 'sulibrahim202@gmail.com', 'Amount': 45, 'Time': '15:12:23', 'IPAddress': '103.83.169.24', 'TransactionMode': 'Bank Transfer'}, {'Date': '2023-04-24', 'Name': 'Ibrahim', 'Email': 'sulibrahim202@gmail.com', 'Amount': 20, 'Time': '19:51:26', 'IPAddress': '141.83.177.155', 'TransactionMode': 'Debit Card'}, {'Date': '2023-04-24', 'Name': 'Ibrahim', 'Email': 'sulibrahim202@gmail.com', 'Amount': 5, 'Time': '23:31:34', 'IPAddress': '84.69.172.191', 'TransactionMode': 'Bank Transfer'}]\n",
      "[{'Date': '2023-04-25', 'Name': 'Ibrahim', 'Email': 'sulibrahim202@gmail.com', 'Amount': 45, 'Time': '07:18:04', 'IPAddress': '103.83.169.24', 'TransactionMode': 'Online Payment'}, {'Date': '2023-04-25', 'Name': 'Ibrahim', 'Email': 'sulibrahim202@gmail.com', 'Amount': 12, 'Time': '12:40:26', 'IPAddress': '152.58.149.138', 'TransactionMode': 'Debit Card'}, {'Date': '2023-04-25', 'Name': 'Ibrahim', 'Email': 'sulibrahim202@gmail.com', 'Amount': 23, 'Time': '17:01:00', 'IPAddress': '126.121.246.110', 'TransactionMode': 'Debit Card'}, {'Date': '2023-04-25', 'Name': 'Ibrahim', 'Email': 'sulibrahim202@gmail.com', 'Amount': 5, 'Time': '22:47:14', 'IPAddress': '80.111.139.82', 'TransactionMode': 'Bank Transfer'}]\n",
      "[{'Date': '2023-04-26', 'Name': 'Ibrahim', 'Email': 'sulibrahim202@gmail.com', 'Amount': 20, 'Time': '07:28:25', 'IPAddress': '44.154.58.200', 'TransactionMode': 'Online Payment'}, {'Date': '2023-04-26', 'Name': 'Ibrahim', 'Email': 'sulibrahim202@gmail.com', 'Amount': 34, 'Time': '15:18:55', 'IPAddress': '179.78.175.197', 'TransactionMode': 'Bank Transfer'}, {'Date': '2023-04-26', 'Name': 'Ibrahim', 'Email': 'sulibrahim202@gmail.com', 'Amount': 12, 'Time': '23:59:41', 'IPAddress': '84.69.172.191', 'TransactionMode': 'Bank Transfer'}]\n",
      "[{'Date': '2023-04-27', 'Name': 'Ibrahim', 'Email': 'sulibrahim202@gmail.com', 'Amount': 34, 'Time': '07:50:57', 'IPAddress': '20.209.253.50', 'TransactionMode': 'Online Payment'}, {'Date': '2023-04-27', 'Name': 'Ibrahim', 'Email': 'sulibrahim202@gmail.com', 'Amount': 45, 'Time': '15:33:42', 'IPAddress': '103.83.169.24', 'TransactionMode': 'Debit Card'}, {'Date': '2023-04-27', 'Name': 'Ibrahim', 'Email': 'sulibrahim202@gmail.com', 'Amount': 20, 'Time': '23:09:50', 'IPAddress': '103.83.169.24', 'TransactionMode': 'Online Payment'}]\n",
      "[{'Date': '2023-04-28', 'Name': 'Ibrahim', 'Email': 'sulibrahim202@gmail.com', 'Amount': 5, 'Time': '07:14:03', 'IPAddress': '80.111.139.82', 'TransactionMode': 'Debit Card'}, {'Date': '2023-04-28', 'Name': 'Ibrahim', 'Email': 'sulibrahim202@gmail.com', 'Amount': 23, 'Time': '11:40:26', 'IPAddress': '44.154.58.200', 'TransactionMode': 'Bank Transfer'}, {'Date': '2023-04-28', 'Name': 'Ibrahim', 'Email': 'sulibrahim202@gmail.com', 'Amount': 20, 'Time': '15:59:35', 'IPAddress': '26.51.167.24', 'TransactionMode': 'Debit Card'}, {'Date': '2023-04-28', 'Name': 'Ibrahim', 'Email': 'sulibrahim202@gmail.com', 'Amount': 45, 'Time': '19:47:16', 'IPAddress': '152.58.149.138', 'TransactionMode': 'Debit Card'}, {'Date': '2023-04-28', 'Name': 'Ibrahim', 'Email': 'sulibrahim202@gmail.com', 'Amount': 12, 'Time': '23:29:04', 'IPAddress': '44.154.58.200', 'TransactionMode': 'Bank Transfer'}]\n",
      "[{'Date': '2023-04-29', 'Name': 'Ibrahim', 'Email': 'sulibrahim202@gmail.com', 'Amount': 70, 'Time': '07:23:38', 'IPAddress': '26.51.167.24', 'TransactionMode': 'Online Payment'}, {'Date': '2023-04-29', 'Name': 'Ibrahim', 'Email': 'sulibrahim202@gmail.com', 'Amount': 70, 'Time': '15:46:40', 'IPAddress': '218.12.47.131', 'TransactionMode': 'Debit Card'}, {'Date': '2023-04-29', 'Name': 'Ibrahim', 'Email': 'sulibrahim202@gmail.com', 'Amount': 60, 'Time': '23:24:59', 'IPAddress': '152.58.149.138', 'TransactionMode': 'Online Payment'}]\n",
      "[{'Date': '2023-04-30', 'Name': 'Ibrahim', 'Email': 'sulibrahim202@gmail.com', 'Amount': 10, 'Time': '07:31:28', 'IPAddress': '84.69.172.191', 'TransactionMode': 'Online Payment'}, {'Date': '2023-04-30', 'Name': 'Ibrahim', 'Email': 'sulibrahim202@gmail.com', 'Amount': 60, 'Time': '11:19:06', 'IPAddress': '20.209.253.50', 'TransactionMode': 'Online Payment'}, {'Date': '2023-04-30', 'Name': 'Ibrahim', 'Email': 'sulibrahim202@gmail.com', 'Amount': 60, 'Time': '15:15:08', 'IPAddress': '126.121.246.110', 'TransactionMode': 'Online Payment'}, {'Date': '2023-04-30', 'Name': 'Ibrahim', 'Email': 'sulibrahim202@gmail.com', 'Amount': 550, 'Time': '19:05:57', 'IPAddress': '218.12.47.131', 'TransactionMode': 'Bank Transfer'}, {'Date': '2023-04-30', 'Name': 'Ibrahim', 'Email': 'sulibrahim202@gmail.com', 'Amount': 1500, 'Time': '23:56:08', 'IPAddress': '80.111.139.82', 'TransactionMode': 'Bank Transfer'}]\n",
      "[{'Date': '2023-05-01', 'Name': 'Ibrahim', 'Email': 'sulibrahim202@gmail.com', 'Amount': 45, 'Time': '07:00:12', 'IPAddress': '44.154.58.200', 'TransactionMode': 'Debit Card'}, {'Date': '2023-05-01', 'Name': 'Ibrahim', 'Email': 'sulibrahim202@gmail.com', 'Amount': 20, 'Time': '12:05:20', 'IPAddress': '26.51.167.24', 'TransactionMode': 'Debit Card'}, {'Date': '2023-05-01', 'Name': 'Ibrahim', 'Email': 'sulibrahim202@gmail.com', 'Amount': 12, 'Time': '17:45:18', 'IPAddress': '84.69.172.191', 'TransactionMode': 'Online Payment'}, {'Date': '2023-05-01', 'Name': 'Ibrahim', 'Email': 'sulibrahim202@gmail.com', 'Amount': 5, 'Time': '22:08:19', 'IPAddress': '84.69.172.191', 'TransactionMode': 'Online Payment'}]\n",
      "None\n"
     ]
    }
   ],
   "source": [
    "# Generating and printing the date range\n",
    "def get_print_dates(start_date, end_date):\n",
    "    starter_date = string_to_date_converter(start_date)\n",
    "    ending_date = string_to_date_converter(end_date)\n",
    "    \n",
    "    date_range = generation_range(starter_date, ending_date)\n",
    "    for date in date_range:\n",
    "        day = string_to_date_converter(date)\n",
    "        transaf = generate_transaction(day)\n",
    "        coded = genree(transaf, 7, 23, date)\n",
    "        print(coded)\n",
    "    \n",
    "    return\n",
    "huy = get_print_dates(start_date, end_date)\n",
    "print(huy)"
   ]
  },
  {
   "cell_type": "code",
   "execution_count": 74,
   "id": "b4bb8579",
   "metadata": {},
   "outputs": [
    {
     "ename": "SyntaxError",
     "evalue": "invalid syntax (3576232902.py, line 1)",
     "output_type": "error",
     "traceback": [
      "\u001b[1;36m  Cell \u001b[1;32mIn[74], line 1\u001b[1;36m\u001b[0m\n\u001b[1;33m    import scikit-learn as sklearn\u001b[0m\n\u001b[1;37m                 ^\u001b[0m\n\u001b[1;31mSyntaxError\u001b[0m\u001b[1;31m:\u001b[0m invalid syntax\n"
     ]
    }
   ],
   "source": [
    "import scikit-learn as sklearn"
   ]
  },
  {
   "cell_type": "code",
   "execution_count": null,
   "id": "c5ad14f4",
   "metadata": {},
   "outputs": [],
   "source": []
  }
 ],
 "metadata": {
  "kernelspec": {
   "display_name": "Python 3 (ipykernel)",
   "language": "python",
   "name": "python3"
  },
  "language_info": {
   "codemirror_mode": {
    "name": "ipython",
    "version": 3
   },
   "file_extension": ".py",
   "mimetype": "text/x-python",
   "name": "python",
   "nbconvert_exporter": "python",
   "pygments_lexer": "ipython3",
   "version": "3.11.3"
  }
 },
 "nbformat": 4,
 "nbformat_minor": 5
}
